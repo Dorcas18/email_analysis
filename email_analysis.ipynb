{
 "cells": [
  {
   "cell_type": "code",
   "execution_count": 1,
   "id": "461ef124",
   "metadata": {},
   "outputs": [],
   "source": [
    "#loading our libraries for our dataset\n",
    "import pandas as pd #data manipulation\n",
    "import numpy as np  #numerical computation\n",
    "import matplotlib.pyplot as plt #data visualisation\n",
    "import mailbox #"
   ]
  },
  {
   "cell_type": "code",
   "execution_count": 2,
   "id": "397ce3c6",
   "metadata": {},
   "outputs": [
    {
     "data": {
      "text/plain": [
       "<mailbox.mbox at 0x1f989eb1cc0>"
      ]
     },
     "execution_count": 2,
     "metadata": {},
     "output_type": "execute_result"
    }
   ],
   "source": [
    "#loading our dataset\n",
    "mboxfile=\"All mail Including spam and Trash.mbox\"\n",
    "mbox=mailbox.mbox(mboxfile)\n",
    "mbox"
   ]
  },
  {
   "cell_type": "code",
   "execution_count": 3,
   "id": "218f5979",
   "metadata": {},
   "outputs": [
    {
     "name": "stdout",
     "output_type": "stream",
     "text": [
      "X-GM-THRID\n",
      "X-Gmail-Labels\n",
      "Delivered-To\n",
      "Received\n",
      "X-Received\n",
      "ARC-Seal\n",
      "ARC-Message-Signature\n",
      "ARC-Authentication-Results\n",
      "Return-Path\n",
      "Received\n",
      "Received-SPF\n",
      "Authentication-Results\n",
      "DKIM-Signature\n",
      "X-Google-DKIM-Signature\n",
      "X-Gm-Message-State\n",
      "X-Google-Smtp-Source\n",
      "MIME-Version\n",
      "X-Received\n",
      "Date\n",
      "Reply-To\n",
      "X-Google-Id\n",
      "Precedence\n",
      "List-Unsubscribe\n",
      "Feedback-ID\n",
      "List-Id\n",
      "X-Notifications\n",
      "X-Notifications-Bounce-Info\n",
      "Message-ID\n",
      "Subject\n",
      "From\n",
      "To\n",
      "Content-Type\n"
     ]
    }
   ],
   "source": [
    "#rows or keys in out email\n",
    "for key in mbox[0].keys():\n",
    "    print(key)"
   ]
  },
  {
   "cell_type": "markdown",
   "id": "c0b9c80b",
   "metadata": {},
   "source": [
    "# data transformation"
   ]
  },
  {
   "cell_type": "code",
   "execution_count": 4,
   "id": "5f739827",
   "metadata": {},
   "outputs": [],
   "source": [
    "import csv"
   ]
  },
  {
   "cell_type": "code",
   "execution_count": 5,
   "id": "66585f02",
   "metadata": {},
   "outputs": [],
   "source": [
    "with open('mailbox.csv', 'w') as outputfile:\n",
    "    writer=csv.writer(outputfile)\n",
    "    writer.writerow([\"subject\",\"from\",\"date\",\"to\",\"label\",\"thread\"])\n",
    "    for message in mbox:\n",
    "        writer.writerow([\n",
    "            message[\"subject\"],\n",
    "            message[\"from\"],\n",
    "            message[\"date\"],\n",
    "            message[\"to\"],\n",
    "            message[\"X-Gmail-Labels\"],\n",
    "            message[\"X-GM-THRID\"],\n",
    "        ])"
   ]
  },
  {
   "cell_type": "code",
   "execution_count": 6,
   "id": "d5d7c486",
   "metadata": {},
   "outputs": [],
   "source": [
    "dfs=pd.read_csv(\"mailbox.csv\")"
   ]
  },
  {
   "cell_type": "code",
   "execution_count": 7,
   "id": "e5e78473",
   "metadata": {},
   "outputs": [
    {
     "data": {
      "text/html": [
       "<div>\n",
       "<style scoped>\n",
       "    .dataframe tbody tr th:only-of-type {\n",
       "        vertical-align: middle;\n",
       "    }\n",
       "\n",
       "    .dataframe tbody tr th {\n",
       "        vertical-align: top;\n",
       "    }\n",
       "\n",
       "    .dataframe thead th {\n",
       "        text-align: right;\n",
       "    }\n",
       "</style>\n",
       "<table border=\"1\" class=\"dataframe\">\n",
       "  <thead>\n",
       "    <tr style=\"text-align: right;\">\n",
       "      <th></th>\n",
       "      <th>subject</th>\n",
       "      <th>from</th>\n",
       "      <th>date</th>\n",
       "      <th>to</th>\n",
       "      <th>label</th>\n",
       "      <th>thread</th>\n",
       "    </tr>\n",
       "  </thead>\n",
       "  <tbody>\n",
       "    <tr>\n",
       "      <th>0</th>\n",
       "      <td>Dorcas, plan fun get-togethers with Google</td>\n",
       "      <td>\"Google Tips &amp; Updates\" &lt;googlecommunityteam-n...</td>\n",
       "      <td>Thu, 13 Jul 2023 09:16:01 -0700</td>\n",
       "      <td>hoseadorcas241@gmail.com</td>\n",
       "      <td>Inbox,Category updates,Unread</td>\n",
       "      <td>1771322697187038003</td>\n",
       "    </tr>\n",
       "    <tr>\n",
       "      <th>1</th>\n",
       "      <td>=?UTF-8?q?Trending_AI_Content_=F0=9F=93=88?=</td>\n",
       "      <td>DataCamp &lt;team@datacamp.com&gt;</td>\n",
       "      <td>Mon, 31 Jul 2023 19:39:28 +0000</td>\n",
       "      <td>hoseadorcas241@gmail.com</td>\n",
       "      <td>Inbox,Category promotions,Unread</td>\n",
       "      <td>1772966242087974305</td>\n",
       "    </tr>\n",
       "    <tr>\n",
       "      <th>2</th>\n",
       "      <td>African Braids for Hoseadorcas</td>\n",
       "      <td>\"=?utf-8?q?Pinterest?=\" &lt;pinterest-recommendat...</td>\n",
       "      <td>Tue, 08 Aug 2023 06:54:37 +0000</td>\n",
       "      <td>\"Hoseadorcas\" &lt;hoseadorcas241@gmail.com&gt;</td>\n",
       "      <td>Inbox,Category promotions,Unread</td>\n",
       "      <td>1773642897684053958</td>\n",
       "    </tr>\n",
       "    <tr>\n",
       "      <th>3</th>\n",
       "      <td>Critical security alert</td>\n",
       "      <td>Google &lt;no-reply@accounts.google.com&gt;</td>\n",
       "      <td>Wed, 26 Jul 2023 13:25:39 GMT</td>\n",
       "      <td>hoseadorcas241@gmail.com</td>\n",
       "      <td>Inbox,Category updates,Unread</td>\n",
       "      <td>1772491626425746422</td>\n",
       "    </tr>\n",
       "    <tr>\n",
       "      <th>4</th>\n",
       "      <td>On a mobile device? We got you covered</td>\n",
       "      <td>DataCamp &lt;team@datacamp.com&gt;</td>\n",
       "      <td>Wed, 09 Aug 2023 12:58:22 +0000</td>\n",
       "      <td>hoseadorcas241@gmail.com</td>\n",
       "      <td>Inbox,Category promotions,Unread</td>\n",
       "      <td>1773756379747392438</td>\n",
       "    </tr>\n",
       "  </tbody>\n",
       "</table>\n",
       "</div>"
      ],
      "text/plain": [
       "                                        subject  \\\n",
       "0   Dorcas, plan fun get-togethers with Google    \n",
       "1  =?UTF-8?q?Trending_AI_Content_=F0=9F=93=88?=   \n",
       "2                African Braids for Hoseadorcas   \n",
       "3                       Critical security alert   \n",
       "4        On a mobile device? We got you covered   \n",
       "\n",
       "                                                from  \\\n",
       "0  \"Google Tips & Updates\" <googlecommunityteam-n...   \n",
       "1                       DataCamp <team@datacamp.com>   \n",
       "2  \"=?utf-8?q?Pinterest?=\" <pinterest-recommendat...   \n",
       "3              Google <no-reply@accounts.google.com>   \n",
       "4                       DataCamp <team@datacamp.com>   \n",
       "\n",
       "                              date                                        to  \\\n",
       "0  Thu, 13 Jul 2023 09:16:01 -0700                  hoseadorcas241@gmail.com   \n",
       "1  Mon, 31 Jul 2023 19:39:28 +0000                  hoseadorcas241@gmail.com   \n",
       "2  Tue, 08 Aug 2023 06:54:37 +0000  \"Hoseadorcas\" <hoseadorcas241@gmail.com>   \n",
       "3    Wed, 26 Jul 2023 13:25:39 GMT                  hoseadorcas241@gmail.com   \n",
       "4  Wed, 09 Aug 2023 12:58:22 +0000                  hoseadorcas241@gmail.com   \n",
       "\n",
       "                              label               thread  \n",
       "0     Inbox,Category updates,Unread  1771322697187038003  \n",
       "1  Inbox,Category promotions,Unread  1772966242087974305  \n",
       "2  Inbox,Category promotions,Unread  1773642897684053958  \n",
       "3     Inbox,Category updates,Unread  1772491626425746422  \n",
       "4  Inbox,Category promotions,Unread  1773756379747392438  "
      ]
     },
     "execution_count": 7,
     "metadata": {},
     "output_type": "execute_result"
    }
   ],
   "source": [
    "dfs.head()"
   ]
  },
  {
   "cell_type": "code",
   "execution_count": 8,
   "id": "4ac559e6",
   "metadata": {},
   "outputs": [
    {
     "data": {
      "text/plain": [
       "subject    object\n",
       "from       object\n",
       "date       object\n",
       "to         object\n",
       "label      object\n",
       "thread      int64\n",
       "dtype: object"
      ]
     },
     "execution_count": 8,
     "metadata": {},
     "output_type": "execute_result"
    }
   ],
   "source": [
    "dfs.dtypes"
   ]
  },
  {
   "cell_type": "markdown",
   "id": "50ee868e",
   "metadata": {},
   "source": [
    "# converting date"
   ]
  },
  {
   "cell_type": "code",
   "execution_count": 9,
   "id": "a4a24e7f",
   "metadata": {},
   "outputs": [
    {
     "data": {
      "text/plain": [
       "0    Thu, 13 Jul 2023 09:16:01 -0700\n",
       "1    Mon, 31 Jul 2023 19:39:28 +0000\n",
       "2    Tue, 08 Aug 2023 06:54:37 +0000\n",
       "3      Wed, 26 Jul 2023 13:25:39 GMT\n",
       "4    Wed, 09 Aug 2023 12:58:22 +0000\n",
       "Name: date, dtype: object"
      ]
     },
     "execution_count": 9,
     "metadata": {},
     "output_type": "execute_result"
    }
   ],
   "source": [
    "dfs['date'].head()"
   ]
  },
  {
   "cell_type": "code",
   "execution_count": 10,
   "id": "64ee7b7b",
   "metadata": {},
   "outputs": [],
   "source": [
    "dfs['date'] = dfs['date'].apply(lambda x: pd.to_datetime(x,\n",
    "errors='coerce', utc=True))\n"
   ]
  },
  {
   "cell_type": "code",
   "execution_count": 11,
   "id": "3c1f029e",
   "metadata": {},
   "outputs": [],
   "source": [
    "dfs[\"date\"]=dfs[\"date\"].apply(lambda x: pd.to_datetime(x),)"
   ]
  },
  {
   "cell_type": "code",
   "execution_count": 12,
   "id": "8c89a492",
   "metadata": {},
   "outputs": [
    {
     "data": {
      "text/plain": [
       "0   2023-07-13 16:16:01+00:00\n",
       "1   2023-07-31 19:39:28+00:00\n",
       "2   2023-08-08 06:54:37+00:00\n",
       "3   2023-07-26 13:25:39+00:00\n",
       "4   2023-08-09 12:58:22+00:00\n",
       "Name: date, dtype: datetime64[ns, UTC]"
      ]
     },
     "execution_count": 12,
     "metadata": {},
     "output_type": "execute_result"
    }
   ],
   "source": [
    "dfs['date'].head()"
   ]
  },
  {
   "cell_type": "code",
   "execution_count": 13,
   "id": "3afd8a69",
   "metadata": {},
   "outputs": [
    {
     "data": {
      "text/html": [
       "<div>\n",
       "<style scoped>\n",
       "    .dataframe tbody tr th:only-of-type {\n",
       "        vertical-align: middle;\n",
       "    }\n",
       "\n",
       "    .dataframe tbody tr th {\n",
       "        vertical-align: top;\n",
       "    }\n",
       "\n",
       "    .dataframe thead th {\n",
       "        text-align: right;\n",
       "    }\n",
       "</style>\n",
       "<table border=\"1\" class=\"dataframe\">\n",
       "  <thead>\n",
       "    <tr style=\"text-align: right;\">\n",
       "      <th></th>\n",
       "      <th>subject</th>\n",
       "      <th>from</th>\n",
       "      <th>date</th>\n",
       "      <th>to</th>\n",
       "      <th>label</th>\n",
       "      <th>thread</th>\n",
       "    </tr>\n",
       "  </thead>\n",
       "  <tbody>\n",
       "    <tr>\n",
       "      <th>0</th>\n",
       "      <td>Dorcas, plan fun get-togethers with Google</td>\n",
       "      <td>\"Google Tips &amp; Updates\" &lt;googlecommunityteam-n...</td>\n",
       "      <td>2023-07-13 16:16:01+00:00</td>\n",
       "      <td>hoseadorcas241@gmail.com</td>\n",
       "      <td>Inbox,Category updates,Unread</td>\n",
       "      <td>1771322697187038003</td>\n",
       "    </tr>\n",
       "    <tr>\n",
       "      <th>1</th>\n",
       "      <td>=?UTF-8?q?Trending_AI_Content_=F0=9F=93=88?=</td>\n",
       "      <td>DataCamp &lt;team@datacamp.com&gt;</td>\n",
       "      <td>2023-07-31 19:39:28+00:00</td>\n",
       "      <td>hoseadorcas241@gmail.com</td>\n",
       "      <td>Inbox,Category promotions,Unread</td>\n",
       "      <td>1772966242087974305</td>\n",
       "    </tr>\n",
       "    <tr>\n",
       "      <th>2</th>\n",
       "      <td>African Braids for Hoseadorcas</td>\n",
       "      <td>\"=?utf-8?q?Pinterest?=\" &lt;pinterest-recommendat...</td>\n",
       "      <td>2023-08-08 06:54:37+00:00</td>\n",
       "      <td>\"Hoseadorcas\" &lt;hoseadorcas241@gmail.com&gt;</td>\n",
       "      <td>Inbox,Category promotions,Unread</td>\n",
       "      <td>1773642897684053958</td>\n",
       "    </tr>\n",
       "    <tr>\n",
       "      <th>3</th>\n",
       "      <td>Critical security alert</td>\n",
       "      <td>Google &lt;no-reply@accounts.google.com&gt;</td>\n",
       "      <td>2023-07-26 13:25:39+00:00</td>\n",
       "      <td>hoseadorcas241@gmail.com</td>\n",
       "      <td>Inbox,Category updates,Unread</td>\n",
       "      <td>1772491626425746422</td>\n",
       "    </tr>\n",
       "    <tr>\n",
       "      <th>4</th>\n",
       "      <td>On a mobile device? We got you covered</td>\n",
       "      <td>DataCamp &lt;team@datacamp.com&gt;</td>\n",
       "      <td>2023-08-09 12:58:22+00:00</td>\n",
       "      <td>hoseadorcas241@gmail.com</td>\n",
       "      <td>Inbox,Category promotions,Unread</td>\n",
       "      <td>1773756379747392438</td>\n",
       "    </tr>\n",
       "  </tbody>\n",
       "</table>\n",
       "</div>"
      ],
      "text/plain": [
       "                                        subject  \\\n",
       "0   Dorcas, plan fun get-togethers with Google    \n",
       "1  =?UTF-8?q?Trending_AI_Content_=F0=9F=93=88?=   \n",
       "2                African Braids for Hoseadorcas   \n",
       "3                       Critical security alert   \n",
       "4        On a mobile device? We got you covered   \n",
       "\n",
       "                                                from  \\\n",
       "0  \"Google Tips & Updates\" <googlecommunityteam-n...   \n",
       "1                       DataCamp <team@datacamp.com>   \n",
       "2  \"=?utf-8?q?Pinterest?=\" <pinterest-recommendat...   \n",
       "3              Google <no-reply@accounts.google.com>   \n",
       "4                       DataCamp <team@datacamp.com>   \n",
       "\n",
       "                       date                                        to  \\\n",
       "0 2023-07-13 16:16:01+00:00                  hoseadorcas241@gmail.com   \n",
       "1 2023-07-31 19:39:28+00:00                  hoseadorcas241@gmail.com   \n",
       "2 2023-08-08 06:54:37+00:00  \"Hoseadorcas\" <hoseadorcas241@gmail.com>   \n",
       "3 2023-07-26 13:25:39+00:00                  hoseadorcas241@gmail.com   \n",
       "4 2023-08-09 12:58:22+00:00                  hoseadorcas241@gmail.com   \n",
       "\n",
       "                              label               thread  \n",
       "0     Inbox,Category updates,Unread  1771322697187038003  \n",
       "1  Inbox,Category promotions,Unread  1772966242087974305  \n",
       "2  Inbox,Category promotions,Unread  1773642897684053958  \n",
       "3     Inbox,Category updates,Unread  1772491626425746422  \n",
       "4  Inbox,Category promotions,Unread  1773756379747392438  "
      ]
     },
     "execution_count": 13,
     "metadata": {},
     "output_type": "execute_result"
    }
   ],
   "source": [
    "dfs.head()"
   ]
  },
  {
   "cell_type": "code",
   "execution_count": 14,
   "id": "11302068",
   "metadata": {},
   "outputs": [
    {
     "data": {
      "text/plain": [
       "0"
      ]
     },
     "execution_count": 14,
     "metadata": {},
     "output_type": "execute_result"
    }
   ],
   "source": [
    "dfs['date'].isnull().sum()"
   ]
  },
  {
   "cell_type": "code",
   "execution_count": 15,
   "id": "c888db51",
   "metadata": {},
   "outputs": [
    {
     "data": {
      "text/html": [
       "<div>\n",
       "<style scoped>\n",
       "    .dataframe tbody tr th:only-of-type {\n",
       "        vertical-align: middle;\n",
       "    }\n",
       "\n",
       "    .dataframe tbody tr th {\n",
       "        vertical-align: top;\n",
       "    }\n",
       "\n",
       "    .dataframe thead th {\n",
       "        text-align: right;\n",
       "    }\n",
       "</style>\n",
       "<table border=\"1\" class=\"dataframe\">\n",
       "  <thead>\n",
       "    <tr style=\"text-align: right;\">\n",
       "      <th></th>\n",
       "      <th>subject</th>\n",
       "      <th>from</th>\n",
       "      <th>date</th>\n",
       "      <th>to</th>\n",
       "      <th>label</th>\n",
       "      <th>thread</th>\n",
       "    </tr>\n",
       "  </thead>\n",
       "  <tbody>\n",
       "    <tr>\n",
       "      <th>0</th>\n",
       "      <td>Dorcas, plan fun get-togethers with Google</td>\n",
       "      <td>\"Google Tips &amp; Updates\" &lt;googlecommunityteam-n...</td>\n",
       "      <td>2023-07-13 16:16:01+00:00</td>\n",
       "      <td>hoseadorcas241@gmail.com</td>\n",
       "      <td>Inbox,Category updates,Unread</td>\n",
       "      <td>1771322697187038003</td>\n",
       "    </tr>\n",
       "    <tr>\n",
       "      <th>1</th>\n",
       "      <td>=?UTF-8?q?Trending_AI_Content_=F0=9F=93=88?=</td>\n",
       "      <td>DataCamp &lt;team@datacamp.com&gt;</td>\n",
       "      <td>2023-07-31 19:39:28+00:00</td>\n",
       "      <td>hoseadorcas241@gmail.com</td>\n",
       "      <td>Inbox,Category promotions,Unread</td>\n",
       "      <td>1772966242087974305</td>\n",
       "    </tr>\n",
       "    <tr>\n",
       "      <th>2</th>\n",
       "      <td>African Braids for Hoseadorcas</td>\n",
       "      <td>\"=?utf-8?q?Pinterest?=\" &lt;pinterest-recommendat...</td>\n",
       "      <td>2023-08-08 06:54:37+00:00</td>\n",
       "      <td>\"Hoseadorcas\" &lt;hoseadorcas241@gmail.com&gt;</td>\n",
       "      <td>Inbox,Category promotions,Unread</td>\n",
       "      <td>1773642897684053958</td>\n",
       "    </tr>\n",
       "    <tr>\n",
       "      <th>3</th>\n",
       "      <td>Critical security alert</td>\n",
       "      <td>Google &lt;no-reply@accounts.google.com&gt;</td>\n",
       "      <td>2023-07-26 13:25:39+00:00</td>\n",
       "      <td>hoseadorcas241@gmail.com</td>\n",
       "      <td>Inbox,Category updates,Unread</td>\n",
       "      <td>1772491626425746422</td>\n",
       "    </tr>\n",
       "    <tr>\n",
       "      <th>4</th>\n",
       "      <td>On a mobile device? We got you covered</td>\n",
       "      <td>DataCamp &lt;team@datacamp.com&gt;</td>\n",
       "      <td>2023-08-09 12:58:22+00:00</td>\n",
       "      <td>hoseadorcas241@gmail.com</td>\n",
       "      <td>Inbox,Category promotions,Unread</td>\n",
       "      <td>1773756379747392438</td>\n",
       "    </tr>\n",
       "  </tbody>\n",
       "</table>\n",
       "</div>"
      ],
      "text/plain": [
       "                                        subject  \\\n",
       "0   Dorcas, plan fun get-togethers with Google    \n",
       "1  =?UTF-8?q?Trending_AI_Content_=F0=9F=93=88?=   \n",
       "2                African Braids for Hoseadorcas   \n",
       "3                       Critical security alert   \n",
       "4        On a mobile device? We got you covered   \n",
       "\n",
       "                                                from  \\\n",
       "0  \"Google Tips & Updates\" <googlecommunityteam-n...   \n",
       "1                       DataCamp <team@datacamp.com>   \n",
       "2  \"=?utf-8?q?Pinterest?=\" <pinterest-recommendat...   \n",
       "3              Google <no-reply@accounts.google.com>   \n",
       "4                       DataCamp <team@datacamp.com>   \n",
       "\n",
       "                       date                                        to  \\\n",
       "0 2023-07-13 16:16:01+00:00                  hoseadorcas241@gmail.com   \n",
       "1 2023-07-31 19:39:28+00:00                  hoseadorcas241@gmail.com   \n",
       "2 2023-08-08 06:54:37+00:00  \"Hoseadorcas\" <hoseadorcas241@gmail.com>   \n",
       "3 2023-07-26 13:25:39+00:00                  hoseadorcas241@gmail.com   \n",
       "4 2023-08-09 12:58:22+00:00                  hoseadorcas241@gmail.com   \n",
       "\n",
       "                              label               thread  \n",
       "0     Inbox,Category updates,Unread  1771322697187038003  \n",
       "1  Inbox,Category promotions,Unread  1772966242087974305  \n",
       "2  Inbox,Category promotions,Unread  1773642897684053958  \n",
       "3     Inbox,Category updates,Unread  1772491626425746422  \n",
       "4  Inbox,Category promotions,Unread  1773756379747392438  "
      ]
     },
     "execution_count": 15,
     "metadata": {},
     "output_type": "execute_result"
    }
   ],
   "source": [
    "dfs.head()"
   ]
  },
  {
   "cell_type": "code",
   "execution_count": 16,
   "id": "48fae46a",
   "metadata": {},
   "outputs": [],
   "source": [
    "#dfs=dfs[dfs[\"date\"].notna()]"
   ]
  },
  {
   "cell_type": "code",
   "execution_count": 17,
   "id": "84bbf3d7",
   "metadata": {},
   "outputs": [],
   "source": [
    "dfs.to_csv(\"gmail.csv\")"
   ]
  },
  {
   "cell_type": "code",
   "execution_count": 18,
   "id": "fea4d273",
   "metadata": {},
   "outputs": [
    {
     "data": {
      "text/html": [
       "<div>\n",
       "<style scoped>\n",
       "    .dataframe tbody tr th:only-of-type {\n",
       "        vertical-align: middle;\n",
       "    }\n",
       "\n",
       "    .dataframe tbody tr th {\n",
       "        vertical-align: top;\n",
       "    }\n",
       "\n",
       "    .dataframe thead th {\n",
       "        text-align: right;\n",
       "    }\n",
       "</style>\n",
       "<table border=\"1\" class=\"dataframe\">\n",
       "  <thead>\n",
       "    <tr style=\"text-align: right;\">\n",
       "      <th></th>\n",
       "      <th>subject</th>\n",
       "      <th>from</th>\n",
       "      <th>date</th>\n",
       "      <th>to</th>\n",
       "      <th>label</th>\n",
       "      <th>thread</th>\n",
       "    </tr>\n",
       "  </thead>\n",
       "  <tbody>\n",
       "    <tr>\n",
       "      <th>0</th>\n",
       "      <td>Dorcas, plan fun get-togethers with Google</td>\n",
       "      <td>\"Google Tips &amp; Updates\" &lt;googlecommunityteam-n...</td>\n",
       "      <td>2023-07-13 16:16:01+00:00</td>\n",
       "      <td>hoseadorcas241@gmail.com</td>\n",
       "      <td>Inbox,Category updates,Unread</td>\n",
       "      <td>1771322697187038003</td>\n",
       "    </tr>\n",
       "    <tr>\n",
       "      <th>1</th>\n",
       "      <td>=?UTF-8?q?Trending_AI_Content_=F0=9F=93=88?=</td>\n",
       "      <td>DataCamp &lt;team@datacamp.com&gt;</td>\n",
       "      <td>2023-07-31 19:39:28+00:00</td>\n",
       "      <td>hoseadorcas241@gmail.com</td>\n",
       "      <td>Inbox,Category promotions,Unread</td>\n",
       "      <td>1772966242087974305</td>\n",
       "    </tr>\n",
       "    <tr>\n",
       "      <th>2</th>\n",
       "      <td>African Braids for Hoseadorcas</td>\n",
       "      <td>\"=?utf-8?q?Pinterest?=\" &lt;pinterest-recommendat...</td>\n",
       "      <td>2023-08-08 06:54:37+00:00</td>\n",
       "      <td>\"Hoseadorcas\" &lt;hoseadorcas241@gmail.com&gt;</td>\n",
       "      <td>Inbox,Category promotions,Unread</td>\n",
       "      <td>1773642897684053958</td>\n",
       "    </tr>\n",
       "    <tr>\n",
       "      <th>3</th>\n",
       "      <td>Critical security alert</td>\n",
       "      <td>Google &lt;no-reply@accounts.google.com&gt;</td>\n",
       "      <td>2023-07-26 13:25:39+00:00</td>\n",
       "      <td>hoseadorcas241@gmail.com</td>\n",
       "      <td>Inbox,Category updates,Unread</td>\n",
       "      <td>1772491626425746422</td>\n",
       "    </tr>\n",
       "    <tr>\n",
       "      <th>4</th>\n",
       "      <td>On a mobile device? We got you covered</td>\n",
       "      <td>DataCamp &lt;team@datacamp.com&gt;</td>\n",
       "      <td>2023-08-09 12:58:22+00:00</td>\n",
       "      <td>hoseadorcas241@gmail.com</td>\n",
       "      <td>Inbox,Category promotions,Unread</td>\n",
       "      <td>1773756379747392438</td>\n",
       "    </tr>\n",
       "  </tbody>\n",
       "</table>\n",
       "</div>"
      ],
      "text/plain": [
       "                                        subject  \\\n",
       "0   Dorcas, plan fun get-togethers with Google    \n",
       "1  =?UTF-8?q?Trending_AI_Content_=F0=9F=93=88?=   \n",
       "2                African Braids for Hoseadorcas   \n",
       "3                       Critical security alert   \n",
       "4        On a mobile device? We got you covered   \n",
       "\n",
       "                                                from  \\\n",
       "0  \"Google Tips & Updates\" <googlecommunityteam-n...   \n",
       "1                       DataCamp <team@datacamp.com>   \n",
       "2  \"=?utf-8?q?Pinterest?=\" <pinterest-recommendat...   \n",
       "3              Google <no-reply@accounts.google.com>   \n",
       "4                       DataCamp <team@datacamp.com>   \n",
       "\n",
       "                       date                                        to  \\\n",
       "0 2023-07-13 16:16:01+00:00                  hoseadorcas241@gmail.com   \n",
       "1 2023-07-31 19:39:28+00:00                  hoseadorcas241@gmail.com   \n",
       "2 2023-08-08 06:54:37+00:00  \"Hoseadorcas\" <hoseadorcas241@gmail.com>   \n",
       "3 2023-07-26 13:25:39+00:00                  hoseadorcas241@gmail.com   \n",
       "4 2023-08-09 12:58:22+00:00                  hoseadorcas241@gmail.com   \n",
       "\n",
       "                              label               thread  \n",
       "0     Inbox,Category updates,Unread  1771322697187038003  \n",
       "1  Inbox,Category promotions,Unread  1772966242087974305  \n",
       "2  Inbox,Category promotions,Unread  1773642897684053958  \n",
       "3     Inbox,Category updates,Unread  1772491626425746422  \n",
       "4  Inbox,Category promotions,Unread  1773756379747392438  "
      ]
     },
     "execution_count": 18,
     "metadata": {},
     "output_type": "execute_result"
    }
   ],
   "source": [
    "dfs.head()"
   ]
  },
  {
   "cell_type": "code",
   "execution_count": 19,
   "id": "fb8c4801",
   "metadata": {},
   "outputs": [
    {
     "name": "stdout",
     "output_type": "stream",
     "text": [
      "<class 'pandas.core.frame.DataFrame'>\n",
      "RangeIndex: 74 entries, 0 to 73\n",
      "Data columns (total 6 columns):\n",
      " #   Column   Non-Null Count  Dtype              \n",
      "---  ------   --------------  -----              \n",
      " 0   subject  73 non-null     object             \n",
      " 1   from     74 non-null     object             \n",
      " 2   date     74 non-null     datetime64[ns, UTC]\n",
      " 3   to       74 non-null     object             \n",
      " 4   label    74 non-null     object             \n",
      " 5   thread   74 non-null     int64              \n",
      "dtypes: datetime64[ns, UTC](1), int64(1), object(4)\n",
      "memory usage: 3.6+ KB\n"
     ]
    }
   ],
   "source": [
    "dfs.info()"
   ]
  },
  {
   "cell_type": "code",
   "execution_count": 20,
   "id": "02a79fe5",
   "metadata": {
    "scrolled": false
   },
   "outputs": [
    {
     "data": {
      "text/html": [
       "<div>\n",
       "<style scoped>\n",
       "    .dataframe tbody tr th:only-of-type {\n",
       "        vertical-align: middle;\n",
       "    }\n",
       "\n",
       "    .dataframe tbody tr th {\n",
       "        vertical-align: top;\n",
       "    }\n",
       "\n",
       "    .dataframe thead th {\n",
       "        text-align: right;\n",
       "    }\n",
       "</style>\n",
       "<table border=\"1\" class=\"dataframe\">\n",
       "  <thead>\n",
       "    <tr style=\"text-align: right;\">\n",
       "      <th></th>\n",
       "      <th>subject</th>\n",
       "      <th>from</th>\n",
       "      <th>date</th>\n",
       "      <th>to</th>\n",
       "      <th>label</th>\n",
       "      <th>thread</th>\n",
       "    </tr>\n",
       "  </thead>\n",
       "  <tbody>\n",
       "    <tr>\n",
       "      <th>0</th>\n",
       "      <td>Dorcas, plan fun get-togethers with Google</td>\n",
       "      <td>\"Google Tips &amp; Updates\" &lt;googlecommunityteam-n...</td>\n",
       "      <td>2023-07-13 16:16:01+00:00</td>\n",
       "      <td>hoseadorcas241@gmail.com</td>\n",
       "      <td>Inbox,Category updates,Unread</td>\n",
       "      <td>1771322697187038003</td>\n",
       "    </tr>\n",
       "    <tr>\n",
       "      <th>1</th>\n",
       "      <td>=?UTF-8?q?Trending_AI_Content_=F0=9F=93=88?=</td>\n",
       "      <td>DataCamp &lt;team@datacamp.com&gt;</td>\n",
       "      <td>2023-07-31 19:39:28+00:00</td>\n",
       "      <td>hoseadorcas241@gmail.com</td>\n",
       "      <td>Inbox,Category promotions,Unread</td>\n",
       "      <td>1772966242087974305</td>\n",
       "    </tr>\n",
       "    <tr>\n",
       "      <th>2</th>\n",
       "      <td>African Braids for Hoseadorcas</td>\n",
       "      <td>\"=?utf-8?q?Pinterest?=\" &lt;pinterest-recommendat...</td>\n",
       "      <td>2023-08-08 06:54:37+00:00</td>\n",
       "      <td>\"Hoseadorcas\" &lt;hoseadorcas241@gmail.com&gt;</td>\n",
       "      <td>Inbox,Category promotions,Unread</td>\n",
       "      <td>1773642897684053958</td>\n",
       "    </tr>\n",
       "    <tr>\n",
       "      <th>3</th>\n",
       "      <td>Critical security alert</td>\n",
       "      <td>Google &lt;no-reply@accounts.google.com&gt;</td>\n",
       "      <td>2023-07-26 13:25:39+00:00</td>\n",
       "      <td>hoseadorcas241@gmail.com</td>\n",
       "      <td>Inbox,Category updates,Unread</td>\n",
       "      <td>1772491626425746422</td>\n",
       "    </tr>\n",
       "    <tr>\n",
       "      <th>4</th>\n",
       "      <td>On a mobile device? We got you covered</td>\n",
       "      <td>DataCamp &lt;team@datacamp.com&gt;</td>\n",
       "      <td>2023-08-09 12:58:22+00:00</td>\n",
       "      <td>hoseadorcas241@gmail.com</td>\n",
       "      <td>Inbox,Category promotions,Unread</td>\n",
       "      <td>1773756379747392438</td>\n",
       "    </tr>\n",
       "    <tr>\n",
       "      <th>5</th>\n",
       "      <td>=?utf-8?Q?=f0=9f=93=84_New_messages_from_=32_c...</td>\n",
       "      <td>Slack &lt;no-reply@slack.com&gt;</td>\n",
       "      <td>2023-06-28 10:35:43+00:00</td>\n",
       "      <td>\"\" &lt;hoseadorcas241@gmail.com&gt;</td>\n",
       "      <td>Inbox,Category updates,Unread</td>\n",
       "      <td>1769942333700725609</td>\n",
       "    </tr>\n",
       "    <tr>\n",
       "      <th>6</th>\n",
       "      <td>Learn more about Python Lists</td>\n",
       "      <td>The DataCamp Team &lt;team@datacamp.com&gt;</td>\n",
       "      <td>2023-07-28 17:13:11+00:00</td>\n",
       "      <td>hoseadorcas241@gmail.com</td>\n",
       "      <td>Inbox,Category promotions,Unread</td>\n",
       "      <td>1772685248914647025</td>\n",
       "    </tr>\n",
       "    <tr>\n",
       "      <th>7</th>\n",
       "      <td>=?utf-8?Q?On-Call=20Code=20Examples=20-=20So=2...</td>\n",
       "      <td>Grepper &lt;support@codegrepper.com&gt;</td>\n",
       "      <td>2023-07-31 14:23:14+00:00</td>\n",
       "      <td>hoseadorcas241@gmail.com</td>\n",
       "      <td>Inbox,Category updates,Unread</td>\n",
       "      <td>1772946345596592454</td>\n",
       "    </tr>\n",
       "    <tr>\n",
       "      <th>8</th>\n",
       "      <td>=?utf-8?Q?Slack_confirmation_code=3a_GO=37=2dK...</td>\n",
       "      <td>Slack &lt;no-reply-Cgu6IFFHwKN143KXanlunWdn@slack...</td>\n",
       "      <td>2023-07-03 14:03:29+00:00</td>\n",
       "      <td>\"\" &lt;hoseadorcas241@gmail.com&gt;</td>\n",
       "      <td>Inbox,Important,Category promotions,Unread</td>\n",
       "      <td>1770408389179960679</td>\n",
       "    </tr>\n",
       "    <tr>\n",
       "      <th>9</th>\n",
       "      <td>CoLab on Slack: New Account Details</td>\n",
       "      <td>Slack &lt;no-reply-aa56xceC3LOl26kfLABQT6x5@slack...</td>\n",
       "      <td>2023-06-26 12:26:42+00:00</td>\n",
       "      <td>\"\" &lt;hoseadorcas241@gmail.com&gt;</td>\n",
       "      <td>Inbox,Important,Category promotions,Unread</td>\n",
       "      <td>1769768122111488807</td>\n",
       "    </tr>\n",
       "  </tbody>\n",
       "</table>\n",
       "</div>"
      ],
      "text/plain": [
       "                                             subject  \\\n",
       "0        Dorcas, plan fun get-togethers with Google    \n",
       "1       =?UTF-8?q?Trending_AI_Content_=F0=9F=93=88?=   \n",
       "2                     African Braids for Hoseadorcas   \n",
       "3                            Critical security alert   \n",
       "4             On a mobile device? We got you covered   \n",
       "5  =?utf-8?Q?=f0=9f=93=84_New_messages_from_=32_c...   \n",
       "6                      Learn more about Python Lists   \n",
       "7  =?utf-8?Q?On-Call=20Code=20Examples=20-=20So=2...   \n",
       "8  =?utf-8?Q?Slack_confirmation_code=3a_GO=37=2dK...   \n",
       "9                CoLab on Slack: New Account Details   \n",
       "\n",
       "                                                from  \\\n",
       "0  \"Google Tips & Updates\" <googlecommunityteam-n...   \n",
       "1                       DataCamp <team@datacamp.com>   \n",
       "2  \"=?utf-8?q?Pinterest?=\" <pinterest-recommendat...   \n",
       "3              Google <no-reply@accounts.google.com>   \n",
       "4                       DataCamp <team@datacamp.com>   \n",
       "5                         Slack <no-reply@slack.com>   \n",
       "6              The DataCamp Team <team@datacamp.com>   \n",
       "7                  Grepper <support@codegrepper.com>   \n",
       "8  Slack <no-reply-Cgu6IFFHwKN143KXanlunWdn@slack...   \n",
       "9  Slack <no-reply-aa56xceC3LOl26kfLABQT6x5@slack...   \n",
       "\n",
       "                       date                                        to  \\\n",
       "0 2023-07-13 16:16:01+00:00                  hoseadorcas241@gmail.com   \n",
       "1 2023-07-31 19:39:28+00:00                  hoseadorcas241@gmail.com   \n",
       "2 2023-08-08 06:54:37+00:00  \"Hoseadorcas\" <hoseadorcas241@gmail.com>   \n",
       "3 2023-07-26 13:25:39+00:00                  hoseadorcas241@gmail.com   \n",
       "4 2023-08-09 12:58:22+00:00                  hoseadorcas241@gmail.com   \n",
       "5 2023-06-28 10:35:43+00:00             \"\" <hoseadorcas241@gmail.com>   \n",
       "6 2023-07-28 17:13:11+00:00                  hoseadorcas241@gmail.com   \n",
       "7 2023-07-31 14:23:14+00:00                  hoseadorcas241@gmail.com   \n",
       "8 2023-07-03 14:03:29+00:00             \"\" <hoseadorcas241@gmail.com>   \n",
       "9 2023-06-26 12:26:42+00:00             \"\" <hoseadorcas241@gmail.com>   \n",
       "\n",
       "                                        label               thread  \n",
       "0               Inbox,Category updates,Unread  1771322697187038003  \n",
       "1            Inbox,Category promotions,Unread  1772966242087974305  \n",
       "2            Inbox,Category promotions,Unread  1773642897684053958  \n",
       "3               Inbox,Category updates,Unread  1772491626425746422  \n",
       "4            Inbox,Category promotions,Unread  1773756379747392438  \n",
       "5               Inbox,Category updates,Unread  1769942333700725609  \n",
       "6            Inbox,Category promotions,Unread  1772685248914647025  \n",
       "7               Inbox,Category updates,Unread  1772946345596592454  \n",
       "8  Inbox,Important,Category promotions,Unread  1770408389179960679  \n",
       "9  Inbox,Important,Category promotions,Unread  1769768122111488807  "
      ]
     },
     "execution_count": 20,
     "metadata": {},
     "output_type": "execute_result"
    }
   ],
   "source": [
    "dfs.head(10)"
   ]
  },
  {
   "cell_type": "markdown",
   "id": "0fc7c34b",
   "metadata": {},
   "source": [
    "# data refactoring"
   ]
  },
  {
   "cell_type": "code",
   "execution_count": 21,
   "id": "04f57ab9",
   "metadata": {},
   "outputs": [
    {
     "data": {
      "text/plain": [
       "0     \"Google Tips & Updates\" <googlecommunityteam-n...\n",
       "1                          DataCamp <team@datacamp.com>\n",
       "2     \"=?utf-8?q?Pinterest?=\" <pinterest-recommendat...\n",
       "3                 Google <no-reply@accounts.google.com>\n",
       "4                          DataCamp <team@datacamp.com>\n",
       "                            ...                        \n",
       "69                         DataCamp <team@datacamp.com>\n",
       "70                         DataCamp <team@datacamp.com>\n",
       "71                       Slack <notification@slack.com>\n",
       "72                       Slack <notification@slack.com>\n",
       "73    TSAKU CHRISTOPHER MOSES <tsakumoses4ril@gmail....\n",
       "Name: from, Length: 74, dtype: object"
      ]
     },
     "execution_count": 21,
     "metadata": {},
     "output_type": "execute_result"
    }
   ],
   "source": [
    "dfs[\"from\"]"
   ]
  },
  {
   "cell_type": "code",
   "execution_count": 22,
   "id": "0973672d",
   "metadata": {},
   "outputs": [],
   "source": [
    "import re"
   ]
  },
  {
   "cell_type": "code",
   "execution_count": 23,
   "id": "c5fad540",
   "metadata": {},
   "outputs": [],
   "source": [
    "def extract_email_ID(string):\n",
    "    email=re.findall(r'<(.+?)>', string)\n",
    "    if not email:\n",
    "        email=list(filter(lambda y:\"@\" in y,string.split()))\n",
    "    return email[0]if email else np.nan"
   ]
  },
  {
   "cell_type": "code",
   "execution_count": 24,
   "id": "187dfc99",
   "metadata": {},
   "outputs": [],
   "source": [
    "dfs[\"from\"]=dfs[\"from\"].apply(lambda x: extract_email_ID(x))"
   ]
  },
  {
   "cell_type": "code",
   "execution_count": 25,
   "id": "65d493f3",
   "metadata": {},
   "outputs": [
    {
     "data": {
      "text/html": [
       "<div>\n",
       "<style scoped>\n",
       "    .dataframe tbody tr th:only-of-type {\n",
       "        vertical-align: middle;\n",
       "    }\n",
       "\n",
       "    .dataframe tbody tr th {\n",
       "        vertical-align: top;\n",
       "    }\n",
       "\n",
       "    .dataframe thead th {\n",
       "        text-align: right;\n",
       "    }\n",
       "</style>\n",
       "<table border=\"1\" class=\"dataframe\">\n",
       "  <thead>\n",
       "    <tr style=\"text-align: right;\">\n",
       "      <th></th>\n",
       "      <th>subject</th>\n",
       "      <th>from</th>\n",
       "      <th>date</th>\n",
       "      <th>to</th>\n",
       "      <th>label</th>\n",
       "      <th>thread</th>\n",
       "    </tr>\n",
       "  </thead>\n",
       "  <tbody>\n",
       "    <tr>\n",
       "      <th>0</th>\n",
       "      <td>Dorcas, plan fun get-togethers with Google</td>\n",
       "      <td>googlecommunityteam-noreply@google.com</td>\n",
       "      <td>2023-07-13 16:16:01+00:00</td>\n",
       "      <td>hoseadorcas241@gmail.com</td>\n",
       "      <td>Inbox,Category updates,Unread</td>\n",
       "      <td>1771322697187038003</td>\n",
       "    </tr>\n",
       "    <tr>\n",
       "      <th>1</th>\n",
       "      <td>=?UTF-8?q?Trending_AI_Content_=F0=9F=93=88?=</td>\n",
       "      <td>team@datacamp.com</td>\n",
       "      <td>2023-07-31 19:39:28+00:00</td>\n",
       "      <td>hoseadorcas241@gmail.com</td>\n",
       "      <td>Inbox,Category promotions,Unread</td>\n",
       "      <td>1772966242087974305</td>\n",
       "    </tr>\n",
       "    <tr>\n",
       "      <th>2</th>\n",
       "      <td>African Braids for Hoseadorcas</td>\n",
       "      <td>pinterest-recommendations@ideas.pinterest.com</td>\n",
       "      <td>2023-08-08 06:54:37+00:00</td>\n",
       "      <td>\"Hoseadorcas\" &lt;hoseadorcas241@gmail.com&gt;</td>\n",
       "      <td>Inbox,Category promotions,Unread</td>\n",
       "      <td>1773642897684053958</td>\n",
       "    </tr>\n",
       "    <tr>\n",
       "      <th>3</th>\n",
       "      <td>Critical security alert</td>\n",
       "      <td>no-reply@accounts.google.com</td>\n",
       "      <td>2023-07-26 13:25:39+00:00</td>\n",
       "      <td>hoseadorcas241@gmail.com</td>\n",
       "      <td>Inbox,Category updates,Unread</td>\n",
       "      <td>1772491626425746422</td>\n",
       "    </tr>\n",
       "    <tr>\n",
       "      <th>4</th>\n",
       "      <td>On a mobile device? We got you covered</td>\n",
       "      <td>team@datacamp.com</td>\n",
       "      <td>2023-08-09 12:58:22+00:00</td>\n",
       "      <td>hoseadorcas241@gmail.com</td>\n",
       "      <td>Inbox,Category promotions,Unread</td>\n",
       "      <td>1773756379747392438</td>\n",
       "    </tr>\n",
       "  </tbody>\n",
       "</table>\n",
       "</div>"
      ],
      "text/plain": [
       "                                        subject  \\\n",
       "0   Dorcas, plan fun get-togethers with Google    \n",
       "1  =?UTF-8?q?Trending_AI_Content_=F0=9F=93=88?=   \n",
       "2                African Braids for Hoseadorcas   \n",
       "3                       Critical security alert   \n",
       "4        On a mobile device? We got you covered   \n",
       "\n",
       "                                            from                      date  \\\n",
       "0         googlecommunityteam-noreply@google.com 2023-07-13 16:16:01+00:00   \n",
       "1                              team@datacamp.com 2023-07-31 19:39:28+00:00   \n",
       "2  pinterest-recommendations@ideas.pinterest.com 2023-08-08 06:54:37+00:00   \n",
       "3                   no-reply@accounts.google.com 2023-07-26 13:25:39+00:00   \n",
       "4                              team@datacamp.com 2023-08-09 12:58:22+00:00   \n",
       "\n",
       "                                         to                             label  \\\n",
       "0                  hoseadorcas241@gmail.com     Inbox,Category updates,Unread   \n",
       "1                  hoseadorcas241@gmail.com  Inbox,Category promotions,Unread   \n",
       "2  \"Hoseadorcas\" <hoseadorcas241@gmail.com>  Inbox,Category promotions,Unread   \n",
       "3                  hoseadorcas241@gmail.com     Inbox,Category updates,Unread   \n",
       "4                  hoseadorcas241@gmail.com  Inbox,Category promotions,Unread   \n",
       "\n",
       "                thread  \n",
       "0  1771322697187038003  \n",
       "1  1772966242087974305  \n",
       "2  1773642897684053958  \n",
       "3  1772491626425746422  \n",
       "4  1773756379747392438  "
      ]
     },
     "execution_count": 25,
     "metadata": {},
     "output_type": "execute_result"
    }
   ],
   "source": [
    "dfs.head()"
   ]
  },
  {
   "cell_type": "code",
   "execution_count": 26,
   "id": "df987476",
   "metadata": {},
   "outputs": [],
   "source": [
    "myemail = \"hoseadorcas241@gmail.com\"\n",
    "dfs['label'] = dfs['from'].apply(lambda x: 'sent' if x==myemail\n",
    "else 'inbox')\n"
   ]
  },
  {
   "cell_type": "code",
   "execution_count": 27,
   "id": "cf2daf3d",
   "metadata": {},
   "outputs": [
    {
     "data": {
      "text/html": [
       "<div>\n",
       "<style scoped>\n",
       "    .dataframe tbody tr th:only-of-type {\n",
       "        vertical-align: middle;\n",
       "    }\n",
       "\n",
       "    .dataframe tbody tr th {\n",
       "        vertical-align: top;\n",
       "    }\n",
       "\n",
       "    .dataframe thead th {\n",
       "        text-align: right;\n",
       "    }\n",
       "</style>\n",
       "<table border=\"1\" class=\"dataframe\">\n",
       "  <thead>\n",
       "    <tr style=\"text-align: right;\">\n",
       "      <th></th>\n",
       "      <th>subject</th>\n",
       "      <th>from</th>\n",
       "      <th>date</th>\n",
       "      <th>to</th>\n",
       "      <th>label</th>\n",
       "      <th>thread</th>\n",
       "    </tr>\n",
       "  </thead>\n",
       "  <tbody>\n",
       "    <tr>\n",
       "      <th>0</th>\n",
       "      <td>Dorcas, plan fun get-togethers with Google</td>\n",
       "      <td>googlecommunityteam-noreply@google.com</td>\n",
       "      <td>2023-07-13 16:16:01+00:00</td>\n",
       "      <td>hoseadorcas241@gmail.com</td>\n",
       "      <td>inbox</td>\n",
       "      <td>1771322697187038003</td>\n",
       "    </tr>\n",
       "    <tr>\n",
       "      <th>1</th>\n",
       "      <td>=?UTF-8?q?Trending_AI_Content_=F0=9F=93=88?=</td>\n",
       "      <td>team@datacamp.com</td>\n",
       "      <td>2023-07-31 19:39:28+00:00</td>\n",
       "      <td>hoseadorcas241@gmail.com</td>\n",
       "      <td>inbox</td>\n",
       "      <td>1772966242087974305</td>\n",
       "    </tr>\n",
       "    <tr>\n",
       "      <th>2</th>\n",
       "      <td>African Braids for Hoseadorcas</td>\n",
       "      <td>pinterest-recommendations@ideas.pinterest.com</td>\n",
       "      <td>2023-08-08 06:54:37+00:00</td>\n",
       "      <td>\"Hoseadorcas\" &lt;hoseadorcas241@gmail.com&gt;</td>\n",
       "      <td>inbox</td>\n",
       "      <td>1773642897684053958</td>\n",
       "    </tr>\n",
       "    <tr>\n",
       "      <th>3</th>\n",
       "      <td>Critical security alert</td>\n",
       "      <td>no-reply@accounts.google.com</td>\n",
       "      <td>2023-07-26 13:25:39+00:00</td>\n",
       "      <td>hoseadorcas241@gmail.com</td>\n",
       "      <td>inbox</td>\n",
       "      <td>1772491626425746422</td>\n",
       "    </tr>\n",
       "    <tr>\n",
       "      <th>4</th>\n",
       "      <td>On a mobile device? We got you covered</td>\n",
       "      <td>team@datacamp.com</td>\n",
       "      <td>2023-08-09 12:58:22+00:00</td>\n",
       "      <td>hoseadorcas241@gmail.com</td>\n",
       "      <td>inbox</td>\n",
       "      <td>1773756379747392438</td>\n",
       "    </tr>\n",
       "  </tbody>\n",
       "</table>\n",
       "</div>"
      ],
      "text/plain": [
       "                                        subject  \\\n",
       "0   Dorcas, plan fun get-togethers with Google    \n",
       "1  =?UTF-8?q?Trending_AI_Content_=F0=9F=93=88?=   \n",
       "2                African Braids for Hoseadorcas   \n",
       "3                       Critical security alert   \n",
       "4        On a mobile device? We got you covered   \n",
       "\n",
       "                                            from                      date  \\\n",
       "0         googlecommunityteam-noreply@google.com 2023-07-13 16:16:01+00:00   \n",
       "1                              team@datacamp.com 2023-07-31 19:39:28+00:00   \n",
       "2  pinterest-recommendations@ideas.pinterest.com 2023-08-08 06:54:37+00:00   \n",
       "3                   no-reply@accounts.google.com 2023-07-26 13:25:39+00:00   \n",
       "4                              team@datacamp.com 2023-08-09 12:58:22+00:00   \n",
       "\n",
       "                                         to  label               thread  \n",
       "0                  hoseadorcas241@gmail.com  inbox  1771322697187038003  \n",
       "1                  hoseadorcas241@gmail.com  inbox  1772966242087974305  \n",
       "2  \"Hoseadorcas\" <hoseadorcas241@gmail.com>  inbox  1773642897684053958  \n",
       "3                  hoseadorcas241@gmail.com  inbox  1772491626425746422  \n",
       "4                  hoseadorcas241@gmail.com  inbox  1773756379747392438  "
      ]
     },
     "execution_count": 27,
     "metadata": {},
     "output_type": "execute_result"
    }
   ],
   "source": [
    "dfs.head()"
   ]
  },
  {
   "cell_type": "code",
   "execution_count": 28,
   "id": "be119072",
   "metadata": {},
   "outputs": [],
   "source": [
    "dfs.drop(columns='to', inplace=True)\n"
   ]
  },
  {
   "cell_type": "code",
   "execution_count": 29,
   "id": "2e577338",
   "metadata": {},
   "outputs": [
    {
     "data": {
      "text/html": [
       "<div>\n",
       "<style scoped>\n",
       "    .dataframe tbody tr th:only-of-type {\n",
       "        vertical-align: middle;\n",
       "    }\n",
       "\n",
       "    .dataframe tbody tr th {\n",
       "        vertical-align: top;\n",
       "    }\n",
       "\n",
       "    .dataframe thead th {\n",
       "        text-align: right;\n",
       "    }\n",
       "</style>\n",
       "<table border=\"1\" class=\"dataframe\">\n",
       "  <thead>\n",
       "    <tr style=\"text-align: right;\">\n",
       "      <th></th>\n",
       "      <th>subject</th>\n",
       "      <th>from</th>\n",
       "      <th>date</th>\n",
       "      <th>label</th>\n",
       "      <th>thread</th>\n",
       "    </tr>\n",
       "  </thead>\n",
       "  <tbody>\n",
       "    <tr>\n",
       "      <th>0</th>\n",
       "      <td>Dorcas, plan fun get-togethers with Google</td>\n",
       "      <td>googlecommunityteam-noreply@google.com</td>\n",
       "      <td>2023-07-13 16:16:01+00:00</td>\n",
       "      <td>inbox</td>\n",
       "      <td>1771322697187038003</td>\n",
       "    </tr>\n",
       "    <tr>\n",
       "      <th>1</th>\n",
       "      <td>=?UTF-8?q?Trending_AI_Content_=F0=9F=93=88?=</td>\n",
       "      <td>team@datacamp.com</td>\n",
       "      <td>2023-07-31 19:39:28+00:00</td>\n",
       "      <td>inbox</td>\n",
       "      <td>1772966242087974305</td>\n",
       "    </tr>\n",
       "    <tr>\n",
       "      <th>2</th>\n",
       "      <td>African Braids for Hoseadorcas</td>\n",
       "      <td>pinterest-recommendations@ideas.pinterest.com</td>\n",
       "      <td>2023-08-08 06:54:37+00:00</td>\n",
       "      <td>inbox</td>\n",
       "      <td>1773642897684053958</td>\n",
       "    </tr>\n",
       "    <tr>\n",
       "      <th>3</th>\n",
       "      <td>Critical security alert</td>\n",
       "      <td>no-reply@accounts.google.com</td>\n",
       "      <td>2023-07-26 13:25:39+00:00</td>\n",
       "      <td>inbox</td>\n",
       "      <td>1772491626425746422</td>\n",
       "    </tr>\n",
       "    <tr>\n",
       "      <th>4</th>\n",
       "      <td>On a mobile device? We got you covered</td>\n",
       "      <td>team@datacamp.com</td>\n",
       "      <td>2023-08-09 12:58:22+00:00</td>\n",
       "      <td>inbox</td>\n",
       "      <td>1773756379747392438</td>\n",
       "    </tr>\n",
       "    <tr>\n",
       "      <th>5</th>\n",
       "      <td>=?utf-8?Q?=f0=9f=93=84_New_messages_from_=32_c...</td>\n",
       "      <td>no-reply@slack.com</td>\n",
       "      <td>2023-06-28 10:35:43+00:00</td>\n",
       "      <td>inbox</td>\n",
       "      <td>1769942333700725609</td>\n",
       "    </tr>\n",
       "    <tr>\n",
       "      <th>6</th>\n",
       "      <td>Learn more about Python Lists</td>\n",
       "      <td>team@datacamp.com</td>\n",
       "      <td>2023-07-28 17:13:11+00:00</td>\n",
       "      <td>inbox</td>\n",
       "      <td>1772685248914647025</td>\n",
       "    </tr>\n",
       "    <tr>\n",
       "      <th>7</th>\n",
       "      <td>=?utf-8?Q?On-Call=20Code=20Examples=20-=20So=2...</td>\n",
       "      <td>support@codegrepper.com</td>\n",
       "      <td>2023-07-31 14:23:14+00:00</td>\n",
       "      <td>inbox</td>\n",
       "      <td>1772946345596592454</td>\n",
       "    </tr>\n",
       "    <tr>\n",
       "      <th>8</th>\n",
       "      <td>=?utf-8?Q?Slack_confirmation_code=3a_GO=37=2dK...</td>\n",
       "      <td>no-reply-Cgu6IFFHwKN143KXanlunWdn@slack.com</td>\n",
       "      <td>2023-07-03 14:03:29+00:00</td>\n",
       "      <td>inbox</td>\n",
       "      <td>1770408389179960679</td>\n",
       "    </tr>\n",
       "    <tr>\n",
       "      <th>9</th>\n",
       "      <td>CoLab on Slack: New Account Details</td>\n",
       "      <td>no-reply-aa56xceC3LOl26kfLABQT6x5@slack.com</td>\n",
       "      <td>2023-06-26 12:26:42+00:00</td>\n",
       "      <td>inbox</td>\n",
       "      <td>1769768122111488807</td>\n",
       "    </tr>\n",
       "  </tbody>\n",
       "</table>\n",
       "</div>"
      ],
      "text/plain": [
       "                                             subject  \\\n",
       "0        Dorcas, plan fun get-togethers with Google    \n",
       "1       =?UTF-8?q?Trending_AI_Content_=F0=9F=93=88?=   \n",
       "2                     African Braids for Hoseadorcas   \n",
       "3                            Critical security alert   \n",
       "4             On a mobile device? We got you covered   \n",
       "5  =?utf-8?Q?=f0=9f=93=84_New_messages_from_=32_c...   \n",
       "6                      Learn more about Python Lists   \n",
       "7  =?utf-8?Q?On-Call=20Code=20Examples=20-=20So=2...   \n",
       "8  =?utf-8?Q?Slack_confirmation_code=3a_GO=37=2dK...   \n",
       "9                CoLab on Slack: New Account Details   \n",
       "\n",
       "                                            from                      date  \\\n",
       "0         googlecommunityteam-noreply@google.com 2023-07-13 16:16:01+00:00   \n",
       "1                              team@datacamp.com 2023-07-31 19:39:28+00:00   \n",
       "2  pinterest-recommendations@ideas.pinterest.com 2023-08-08 06:54:37+00:00   \n",
       "3                   no-reply@accounts.google.com 2023-07-26 13:25:39+00:00   \n",
       "4                              team@datacamp.com 2023-08-09 12:58:22+00:00   \n",
       "5                             no-reply@slack.com 2023-06-28 10:35:43+00:00   \n",
       "6                              team@datacamp.com 2023-07-28 17:13:11+00:00   \n",
       "7                        support@codegrepper.com 2023-07-31 14:23:14+00:00   \n",
       "8    no-reply-Cgu6IFFHwKN143KXanlunWdn@slack.com 2023-07-03 14:03:29+00:00   \n",
       "9    no-reply-aa56xceC3LOl26kfLABQT6x5@slack.com 2023-06-26 12:26:42+00:00   \n",
       "\n",
       "   label               thread  \n",
       "0  inbox  1771322697187038003  \n",
       "1  inbox  1772966242087974305  \n",
       "2  inbox  1773642897684053958  \n",
       "3  inbox  1772491626425746422  \n",
       "4  inbox  1773756379747392438  \n",
       "5  inbox  1769942333700725609  \n",
       "6  inbox  1772685248914647025  \n",
       "7  inbox  1772946345596592454  \n",
       "8  inbox  1770408389179960679  \n",
       "9  inbox  1769768122111488807  "
      ]
     },
     "execution_count": 29,
     "metadata": {},
     "output_type": "execute_result"
    }
   ],
   "source": [
    "dfs.head(10)"
   ]
  },
  {
   "cell_type": "markdown",
   "id": "4e8b16ad",
   "metadata": {},
   "source": [
    "# refactoring time zone"
   ]
  },
  {
   "cell_type": "code",
   "execution_count": 30,
   "id": "d5fd06a9",
   "metadata": {},
   "outputs": [],
   "source": [
    "import datetime\n",
    "import pytz"
   ]
  },
  {
   "cell_type": "code",
   "execution_count": 31,
   "id": "31c389bc",
   "metadata": {},
   "outputs": [],
   "source": [
    "#pytz.all_timezones"
   ]
  },
  {
   "cell_type": "code",
   "execution_count": 32,
   "id": "111d8dc5",
   "metadata": {},
   "outputs": [],
   "source": [
    "def refactor_timezone(x):\n",
    "    est = pytz.timezone('Africa/Lagos')\n",
    "    return x.astimezone(est)"
   ]
  },
  {
   "cell_type": "code",
   "execution_count": 33,
   "id": "4a6b243b",
   "metadata": {},
   "outputs": [
    {
     "data": {
      "text/plain": [
       "0   2023-07-13 16:16:01+00:00\n",
       "1   2023-07-31 19:39:28+00:00\n",
       "2   2023-08-08 06:54:37+00:00\n",
       "3   2023-07-26 13:25:39+00:00\n",
       "4   2023-08-09 12:58:22+00:00\n",
       "Name: date, dtype: datetime64[ns, UTC]"
      ]
     },
     "execution_count": 33,
     "metadata": {},
     "output_type": "execute_result"
    }
   ],
   "source": [
    "dfs['date'].head()"
   ]
  },
  {
   "cell_type": "code",
   "execution_count": 34,
   "id": "40336960",
   "metadata": {},
   "outputs": [],
   "source": [
    "dfs['date'] = dfs['date'].apply(lambda x: refactor_timezone(x))"
   ]
  },
  {
   "cell_type": "code",
   "execution_count": 35,
   "id": "d3351da0",
   "metadata": {},
   "outputs": [
    {
     "data": {
      "text/plain": [
       "0   2023-07-13 17:16:01+01:00\n",
       "1   2023-07-31 20:39:28+01:00\n",
       "2   2023-08-08 07:54:37+01:00\n",
       "3   2023-07-26 14:25:39+01:00\n",
       "4   2023-08-09 13:58:22+01:00\n",
       "Name: date, dtype: datetime64[ns, Africa/Lagos]"
      ]
     },
     "execution_count": 35,
     "metadata": {},
     "output_type": "execute_result"
    }
   ],
   "source": [
    "dfs['date'].head()"
   ]
  },
  {
   "cell_type": "code",
   "execution_count": null,
   "id": "f90ac382",
   "metadata": {},
   "outputs": [],
   "source": []
  },
  {
   "cell_type": "code",
   "execution_count": 36,
   "id": "b116e137",
   "metadata": {},
   "outputs": [],
   "source": [
    "# dfs['day of week'] = dfs['date'].apply(lambda x: x.strftime('%A'))\n",
    "# dfs['day of week'] = pd.Categorical(dfs['day of week'], categories=['Monday', 'Tuesday', 'Wednesday', 'Thursday', 'Friday', 'Saturday', 'Sunday'], ordered=True)"
   ]
  },
  {
   "cell_type": "code",
   "execution_count": 37,
   "id": "66531c21",
   "metadata": {},
   "outputs": [],
   "source": [
    "dfs['dayofweek'] = dfs['date'].apply(lambda x: x.day_name())"
   ]
  },
  {
   "cell_type": "code",
   "execution_count": 38,
   "id": "8fd85ef9",
   "metadata": {},
   "outputs": [
    {
     "data": {
      "text/html": [
       "<div>\n",
       "<style scoped>\n",
       "    .dataframe tbody tr th:only-of-type {\n",
       "        vertical-align: middle;\n",
       "    }\n",
       "\n",
       "    .dataframe tbody tr th {\n",
       "        vertical-align: top;\n",
       "    }\n",
       "\n",
       "    .dataframe thead th {\n",
       "        text-align: right;\n",
       "    }\n",
       "</style>\n",
       "<table border=\"1\" class=\"dataframe\">\n",
       "  <thead>\n",
       "    <tr style=\"text-align: right;\">\n",
       "      <th></th>\n",
       "      <th>date</th>\n",
       "      <th>dayofweek</th>\n",
       "    </tr>\n",
       "  </thead>\n",
       "  <tbody>\n",
       "    <tr>\n",
       "      <th>0</th>\n",
       "      <td>2023-07-13 17:16:01+01:00</td>\n",
       "      <td>Thursday</td>\n",
       "    </tr>\n",
       "    <tr>\n",
       "      <th>1</th>\n",
       "      <td>2023-07-31 20:39:28+01:00</td>\n",
       "      <td>Monday</td>\n",
       "    </tr>\n",
       "    <tr>\n",
       "      <th>2</th>\n",
       "      <td>2023-08-08 07:54:37+01:00</td>\n",
       "      <td>Tuesday</td>\n",
       "    </tr>\n",
       "    <tr>\n",
       "      <th>3</th>\n",
       "      <td>2023-07-26 14:25:39+01:00</td>\n",
       "      <td>Wednesday</td>\n",
       "    </tr>\n",
       "    <tr>\n",
       "      <th>4</th>\n",
       "      <td>2023-08-09 13:58:22+01:00</td>\n",
       "      <td>Wednesday</td>\n",
       "    </tr>\n",
       "  </tbody>\n",
       "</table>\n",
       "</div>"
      ],
      "text/plain": [
       "                       date  dayofweek\n",
       "0 2023-07-13 17:16:01+01:00   Thursday\n",
       "1 2023-07-31 20:39:28+01:00     Monday\n",
       "2 2023-08-08 07:54:37+01:00    Tuesday\n",
       "3 2023-07-26 14:25:39+01:00  Wednesday\n",
       "4 2023-08-09 13:58:22+01:00  Wednesday"
      ]
     },
     "execution_count": 38,
     "metadata": {},
     "output_type": "execute_result"
    }
   ],
   "source": [
    "dfs[['date','dayofweek']].head()"
   ]
  },
  {
   "cell_type": "code",
   "execution_count": 39,
   "id": "b4f6c5ae",
   "metadata": {
    "scrolled": true
   },
   "outputs": [
    {
     "name": "stdout",
     "output_type": "stream",
     "text": [
      "<class 'pandas.core.frame.DataFrame'>\n",
      "RangeIndex: 74 entries, 0 to 73\n",
      "Data columns (total 6 columns):\n",
      " #   Column     Non-Null Count  Dtype                       \n",
      "---  ------     --------------  -----                       \n",
      " 0   subject    73 non-null     object                      \n",
      " 1   from       74 non-null     object                      \n",
      " 2   date       74 non-null     datetime64[ns, Africa/Lagos]\n",
      " 3   label      74 non-null     object                      \n",
      " 4   thread     74 non-null     int64                       \n",
      " 5   dayofweek  74 non-null     object                      \n",
      "dtypes: datetime64[ns, Africa/Lagos](1), int64(1), object(4)\n",
      "memory usage: 3.6+ KB\n"
     ]
    }
   ],
   "source": [
    "dfs.info()"
   ]
  },
  {
   "cell_type": "code",
   "execution_count": 40,
   "id": "ae3506a2",
   "metadata": {},
   "outputs": [],
   "source": [
    "dfs['dayofweek'] = dfs.dayofweek.astype('category')"
   ]
  },
  {
   "cell_type": "code",
   "execution_count": 42,
   "id": "a95d8ff1",
   "metadata": {},
   "outputs": [
    {
     "name": "stdout",
     "output_type": "stream",
     "text": [
      "<class 'pandas.core.frame.DataFrame'>\n",
      "RangeIndex: 74 entries, 0 to 73\n",
      "Data columns (total 6 columns):\n",
      " #   Column     Non-Null Count  Dtype                       \n",
      "---  ------     --------------  -----                       \n",
      " 0   subject    73 non-null     object                      \n",
      " 1   from       74 non-null     object                      \n",
      " 2   date       74 non-null     datetime64[ns, Africa/Lagos]\n",
      " 3   label      74 non-null     object                      \n",
      " 4   thread     74 non-null     int64                       \n",
      " 5   dayofweek  74 non-null     category                    \n",
      "dtypes: category(1), datetime64[ns, Africa/Lagos](1), int64(1), object(3)\n",
      "memory usage: 3.4+ KB\n"
     ]
    }
   ],
   "source": [
    "dfs.info()"
   ]
  },
  {
   "cell_type": "code",
   "execution_count": 43,
   "id": "b4e702b1",
   "metadata": {},
   "outputs": [],
   "source": [
    "dfs['timeofday'] = dfs['date'].apply(lambda x: x.hour + x.minute/60\n",
    "+ x.second/3600)"
   ]
  },
  {
   "cell_type": "code",
   "execution_count": 44,
   "id": "b6f545d8",
   "metadata": {},
   "outputs": [],
   "source": [
    "dfs['hour'] = dfs['date'].apply(lambda x: x.hour)\n"
   ]
  },
  {
   "cell_type": "code",
   "execution_count": 45,
   "id": "40a795fa",
   "metadata": {},
   "outputs": [],
   "source": [
    "# dfs['year_int'] = dfs['date'].apply(lambda x: x.year)"
   ]
  },
  {
   "cell_type": "code",
   "execution_count": 46,
   "id": "bc3141bd",
   "metadata": {},
   "outputs": [],
   "source": [
    "dfs[\"year\"]=dfs[\"date\"].apply(lambda x:x.year + x.dayofyear/365.25)"
   ]
  },
  {
   "cell_type": "code",
   "execution_count": 47,
   "id": "d39fa554",
   "metadata": {},
   "outputs": [],
   "source": [
    "dfs.index =dfs['date']\n",
    "del dfs['date']"
   ]
  },
  {
   "cell_type": "code",
   "execution_count": 48,
   "id": "1aa90989",
   "metadata": {},
   "outputs": [
    {
     "data": {
      "text/html": [
       "<div>\n",
       "<style scoped>\n",
       "    .dataframe tbody tr th:only-of-type {\n",
       "        vertical-align: middle;\n",
       "    }\n",
       "\n",
       "    .dataframe tbody tr th {\n",
       "        vertical-align: top;\n",
       "    }\n",
       "\n",
       "    .dataframe thead th {\n",
       "        text-align: right;\n",
       "    }\n",
       "</style>\n",
       "<table border=\"1\" class=\"dataframe\">\n",
       "  <thead>\n",
       "    <tr style=\"text-align: right;\">\n",
       "      <th></th>\n",
       "      <th>subject</th>\n",
       "      <th>from</th>\n",
       "      <th>label</th>\n",
       "      <th>thread</th>\n",
       "      <th>dayofweek</th>\n",
       "      <th>timeofday</th>\n",
       "      <th>hour</th>\n",
       "      <th>year</th>\n",
       "    </tr>\n",
       "    <tr>\n",
       "      <th>date</th>\n",
       "      <th></th>\n",
       "      <th></th>\n",
       "      <th></th>\n",
       "      <th></th>\n",
       "      <th></th>\n",
       "      <th></th>\n",
       "      <th></th>\n",
       "      <th></th>\n",
       "    </tr>\n",
       "  </thead>\n",
       "  <tbody>\n",
       "    <tr>\n",
       "      <th>2023-07-13 17:16:01+01:00</th>\n",
       "      <td>Dorcas, plan fun get-togethers with Google</td>\n",
       "      <td>googlecommunityteam-noreply@google.com</td>\n",
       "      <td>inbox</td>\n",
       "      <td>1771322697187038003</td>\n",
       "      <td>Thursday</td>\n",
       "      <td>17.266944</td>\n",
       "      <td>17</td>\n",
       "      <td>2023.531143</td>\n",
       "    </tr>\n",
       "    <tr>\n",
       "      <th>2023-07-31 20:39:28+01:00</th>\n",
       "      <td>=?UTF-8?q?Trending_AI_Content_=F0=9F=93=88?=</td>\n",
       "      <td>team@datacamp.com</td>\n",
       "      <td>inbox</td>\n",
       "      <td>1772966242087974305</td>\n",
       "      <td>Monday</td>\n",
       "      <td>20.657778</td>\n",
       "      <td>20</td>\n",
       "      <td>2023.580424</td>\n",
       "    </tr>\n",
       "    <tr>\n",
       "      <th>2023-08-08 07:54:37+01:00</th>\n",
       "      <td>African Braids for Hoseadorcas</td>\n",
       "      <td>pinterest-recommendations@ideas.pinterest.com</td>\n",
       "      <td>inbox</td>\n",
       "      <td>1773642897684053958</td>\n",
       "      <td>Tuesday</td>\n",
       "      <td>7.910278</td>\n",
       "      <td>7</td>\n",
       "      <td>2023.602327</td>\n",
       "    </tr>\n",
       "    <tr>\n",
       "      <th>2023-07-26 14:25:39+01:00</th>\n",
       "      <td>Critical security alert</td>\n",
       "      <td>no-reply@accounts.google.com</td>\n",
       "      <td>inbox</td>\n",
       "      <td>1772491626425746422</td>\n",
       "      <td>Wednesday</td>\n",
       "      <td>14.427500</td>\n",
       "      <td>14</td>\n",
       "      <td>2023.566735</td>\n",
       "    </tr>\n",
       "    <tr>\n",
       "      <th>2023-08-09 13:58:22+01:00</th>\n",
       "      <td>On a mobile device? We got you covered</td>\n",
       "      <td>team@datacamp.com</td>\n",
       "      <td>inbox</td>\n",
       "      <td>1773756379747392438</td>\n",
       "      <td>Wednesday</td>\n",
       "      <td>13.972778</td>\n",
       "      <td>13</td>\n",
       "      <td>2023.605065</td>\n",
       "    </tr>\n",
       "  </tbody>\n",
       "</table>\n",
       "</div>"
      ],
      "text/plain": [
       "                                                                subject  \\\n",
       "date                                                                      \n",
       "2023-07-13 17:16:01+01:00   Dorcas, plan fun get-togethers with Google    \n",
       "2023-07-31 20:39:28+01:00  =?UTF-8?q?Trending_AI_Content_=F0=9F=93=88?=   \n",
       "2023-08-08 07:54:37+01:00                African Braids for Hoseadorcas   \n",
       "2023-07-26 14:25:39+01:00                       Critical security alert   \n",
       "2023-08-09 13:58:22+01:00        On a mobile device? We got you covered   \n",
       "\n",
       "                                                                    from  \\\n",
       "date                                                                       \n",
       "2023-07-13 17:16:01+01:00         googlecommunityteam-noreply@google.com   \n",
       "2023-07-31 20:39:28+01:00                              team@datacamp.com   \n",
       "2023-08-08 07:54:37+01:00  pinterest-recommendations@ideas.pinterest.com   \n",
       "2023-07-26 14:25:39+01:00                   no-reply@accounts.google.com   \n",
       "2023-08-09 13:58:22+01:00                              team@datacamp.com   \n",
       "\n",
       "                           label               thread  dayofweek  timeofday  \\\n",
       "date                                                                          \n",
       "2023-07-13 17:16:01+01:00  inbox  1771322697187038003   Thursday  17.266944   \n",
       "2023-07-31 20:39:28+01:00  inbox  1772966242087974305     Monday  20.657778   \n",
       "2023-08-08 07:54:37+01:00  inbox  1773642897684053958    Tuesday   7.910278   \n",
       "2023-07-26 14:25:39+01:00  inbox  1772491626425746422  Wednesday  14.427500   \n",
       "2023-08-09 13:58:22+01:00  inbox  1773756379747392438  Wednesday  13.972778   \n",
       "\n",
       "                           hour         year  \n",
       "date                                          \n",
       "2023-07-13 17:16:01+01:00    17  2023.531143  \n",
       "2023-07-31 20:39:28+01:00    20  2023.580424  \n",
       "2023-08-08 07:54:37+01:00     7  2023.602327  \n",
       "2023-07-26 14:25:39+01:00    14  2023.566735  \n",
       "2023-08-09 13:58:22+01:00    13  2023.605065  "
      ]
     },
     "execution_count": 48,
     "metadata": {},
     "output_type": "execute_result"
    }
   ],
   "source": [
    "dfs.head()"
   ]
  },
  {
   "cell_type": "code",
   "execution_count": 66,
   "id": "26ef764e",
   "metadata": {},
   "outputs": [
    {
     "data": {
      "text/html": [
       "<div>\n",
       "<style scoped>\n",
       "    .dataframe tbody tr th:only-of-type {\n",
       "        vertical-align: middle;\n",
       "    }\n",
       "\n",
       "    .dataframe tbody tr th {\n",
       "        vertical-align: top;\n",
       "    }\n",
       "\n",
       "    .dataframe thead th {\n",
       "        text-align: right;\n",
       "    }\n",
       "</style>\n",
       "<table border=\"1\" class=\"dataframe\">\n",
       "  <thead>\n",
       "    <tr style=\"text-align: right;\">\n",
       "      <th></th>\n",
       "      <th>subject</th>\n",
       "      <th>from</th>\n",
       "      <th>label</th>\n",
       "      <th>thread</th>\n",
       "      <th>dayofweek</th>\n",
       "      <th>timeofday</th>\n",
       "      <th>hour</th>\n",
       "      <th>year</th>\n",
       "    </tr>\n",
       "    <tr>\n",
       "      <th>date</th>\n",
       "      <th></th>\n",
       "      <th></th>\n",
       "      <th></th>\n",
       "      <th></th>\n",
       "      <th></th>\n",
       "      <th></th>\n",
       "      <th></th>\n",
       "      <th></th>\n",
       "    </tr>\n",
       "  </thead>\n",
       "  <tbody>\n",
       "    <tr>\n",
       "      <th>2023-07-13 17:16:01+01:00</th>\n",
       "      <td>Dorcas, plan fun get-togethers with Google</td>\n",
       "      <td>googlecommunityteam-noreply@google.com</td>\n",
       "      <td>inbox</td>\n",
       "      <td>1771322697187038003</td>\n",
       "      <td>Thursday</td>\n",
       "      <td>17.266944</td>\n",
       "      <td>17</td>\n",
       "      <td>2023.531143</td>\n",
       "    </tr>\n",
       "    <tr>\n",
       "      <th>2023-07-31 20:39:28+01:00</th>\n",
       "      <td>=?UTF-8?q?Trending_AI_Content_=F0=9F=93=88?=</td>\n",
       "      <td>team@datacamp.com</td>\n",
       "      <td>inbox</td>\n",
       "      <td>1772966242087974305</td>\n",
       "      <td>Monday</td>\n",
       "      <td>20.657778</td>\n",
       "      <td>20</td>\n",
       "      <td>2023.580424</td>\n",
       "    </tr>\n",
       "    <tr>\n",
       "      <th>2023-08-08 07:54:37+01:00</th>\n",
       "      <td>African Braids for Hoseadorcas</td>\n",
       "      <td>pinterest-recommendations@ideas.pinterest.com</td>\n",
       "      <td>inbox</td>\n",
       "      <td>1773642897684053958</td>\n",
       "      <td>Tuesday</td>\n",
       "      <td>7.910278</td>\n",
       "      <td>7</td>\n",
       "      <td>2023.602327</td>\n",
       "    </tr>\n",
       "    <tr>\n",
       "      <th>2023-07-26 14:25:39+01:00</th>\n",
       "      <td>Critical security alert</td>\n",
       "      <td>no-reply@accounts.google.com</td>\n",
       "      <td>inbox</td>\n",
       "      <td>1772491626425746422</td>\n",
       "      <td>Wednesday</td>\n",
       "      <td>14.427500</td>\n",
       "      <td>14</td>\n",
       "      <td>2023.566735</td>\n",
       "    </tr>\n",
       "    <tr>\n",
       "      <th>2023-08-09 13:58:22+01:00</th>\n",
       "      <td>On a mobile device? We got you covered</td>\n",
       "      <td>team@datacamp.com</td>\n",
       "      <td>inbox</td>\n",
       "      <td>1773756379747392438</td>\n",
       "      <td>Wednesday</td>\n",
       "      <td>13.972778</td>\n",
       "      <td>13</td>\n",
       "      <td>2023.605065</td>\n",
       "    </tr>\n",
       "    <tr>\n",
       "      <th>...</th>\n",
       "      <td>...</td>\n",
       "      <td>...</td>\n",
       "      <td>...</td>\n",
       "      <td>...</td>\n",
       "      <td>...</td>\n",
       "      <td>...</td>\n",
       "      <td>...</td>\n",
       "      <td>...</td>\n",
       "    </tr>\n",
       "    <tr>\n",
       "      <th>2023-08-02 15:06:21+01:00</th>\n",
       "      <td>50% Off: Ends soon!</td>\n",
       "      <td>team@datacamp.com</td>\n",
       "      <td>inbox</td>\n",
       "      <td>1773126479423854507</td>\n",
       "      <td>Wednesday</td>\n",
       "      <td>15.105833</td>\n",
       "      <td>15</td>\n",
       "      <td>2023.585900</td>\n",
       "    </tr>\n",
       "    <tr>\n",
       "      <th>2023-07-31 12:50:18+01:00</th>\n",
       "      <td>Dorcas, don't get left behind</td>\n",
       "      <td>team@datacamp.com</td>\n",
       "      <td>inbox</td>\n",
       "      <td>1772936724835629352</td>\n",
       "      <td>Monday</td>\n",
       "      <td>12.838333</td>\n",
       "      <td>12</td>\n",
       "      <td>2023.580424</td>\n",
       "    </tr>\n",
       "    <tr>\n",
       "      <th>2023-08-10 17:23:55+01:00</th>\n",
       "      <td>=?utf-8?Q?=5bSlack=5d_New_messages_from_Gideon...</td>\n",
       "      <td>notification@slack.com</td>\n",
       "      <td>inbox</td>\n",
       "      <td>1773859910185209994</td>\n",
       "      <td>Thursday</td>\n",
       "      <td>17.398611</td>\n",
       "      <td>17</td>\n",
       "      <td>2023.607803</td>\n",
       "    </tr>\n",
       "    <tr>\n",
       "      <th>2023-08-13 20:42:30+01:00</th>\n",
       "      <td>=?utf-8?Q?=5bSlack=5d_Pablo_mentioned_you_in_=...</td>\n",
       "      <td>notification@slack.com</td>\n",
       "      <td>inbox</td>\n",
       "      <td>1774144193715694645</td>\n",
       "      <td>Sunday</td>\n",
       "      <td>20.708333</td>\n",
       "      <td>20</td>\n",
       "      <td>2023.616016</td>\n",
       "    </tr>\n",
       "    <tr>\n",
       "      <th>2023-08-07 12:23:48+01:00</th>\n",
       "      <td>book on data visualization.</td>\n",
       "      <td>tsakumoses4ril@gmail.com</td>\n",
       "      <td>inbox</td>\n",
       "      <td>1773569257710074661</td>\n",
       "      <td>Monday</td>\n",
       "      <td>12.396667</td>\n",
       "      <td>12</td>\n",
       "      <td>2023.599589</td>\n",
       "    </tr>\n",
       "  </tbody>\n",
       "</table>\n",
       "<p>74 rows × 8 columns</p>\n",
       "</div>"
      ],
      "text/plain": [
       "                                                                     subject  \\\n",
       "date                                                                           \n",
       "2023-07-13 17:16:01+01:00        Dorcas, plan fun get-togethers with Google    \n",
       "2023-07-31 20:39:28+01:00       =?UTF-8?q?Trending_AI_Content_=F0=9F=93=88?=   \n",
       "2023-08-08 07:54:37+01:00                     African Braids for Hoseadorcas   \n",
       "2023-07-26 14:25:39+01:00                            Critical security alert   \n",
       "2023-08-09 13:58:22+01:00             On a mobile device? We got you covered   \n",
       "...                                                                      ...   \n",
       "2023-08-02 15:06:21+01:00                                50% Off: Ends soon!   \n",
       "2023-07-31 12:50:18+01:00                      Dorcas, don't get left behind   \n",
       "2023-08-10 17:23:55+01:00  =?utf-8?Q?=5bSlack=5d_New_messages_from_Gideon...   \n",
       "2023-08-13 20:42:30+01:00  =?utf-8?Q?=5bSlack=5d_Pablo_mentioned_you_in_=...   \n",
       "2023-08-07 12:23:48+01:00                        book on data visualization.   \n",
       "\n",
       "                                                                    from  \\\n",
       "date                                                                       \n",
       "2023-07-13 17:16:01+01:00         googlecommunityteam-noreply@google.com   \n",
       "2023-07-31 20:39:28+01:00                              team@datacamp.com   \n",
       "2023-08-08 07:54:37+01:00  pinterest-recommendations@ideas.pinterest.com   \n",
       "2023-07-26 14:25:39+01:00                   no-reply@accounts.google.com   \n",
       "2023-08-09 13:58:22+01:00                              team@datacamp.com   \n",
       "...                                                                  ...   \n",
       "2023-08-02 15:06:21+01:00                              team@datacamp.com   \n",
       "2023-07-31 12:50:18+01:00                              team@datacamp.com   \n",
       "2023-08-10 17:23:55+01:00                         notification@slack.com   \n",
       "2023-08-13 20:42:30+01:00                         notification@slack.com   \n",
       "2023-08-07 12:23:48+01:00                       tsakumoses4ril@gmail.com   \n",
       "\n",
       "                           label               thread  dayofweek  timeofday  \\\n",
       "date                                                                          \n",
       "2023-07-13 17:16:01+01:00  inbox  1771322697187038003   Thursday  17.266944   \n",
       "2023-07-31 20:39:28+01:00  inbox  1772966242087974305     Monday  20.657778   \n",
       "2023-08-08 07:54:37+01:00  inbox  1773642897684053958    Tuesday   7.910278   \n",
       "2023-07-26 14:25:39+01:00  inbox  1772491626425746422  Wednesday  14.427500   \n",
       "2023-08-09 13:58:22+01:00  inbox  1773756379747392438  Wednesday  13.972778   \n",
       "...                          ...                  ...        ...        ...   \n",
       "2023-08-02 15:06:21+01:00  inbox  1773126479423854507  Wednesday  15.105833   \n",
       "2023-07-31 12:50:18+01:00  inbox  1772936724835629352     Monday  12.838333   \n",
       "2023-08-10 17:23:55+01:00  inbox  1773859910185209994   Thursday  17.398611   \n",
       "2023-08-13 20:42:30+01:00  inbox  1774144193715694645     Sunday  20.708333   \n",
       "2023-08-07 12:23:48+01:00  inbox  1773569257710074661     Monday  12.396667   \n",
       "\n",
       "                           hour         year  \n",
       "date                                          \n",
       "2023-07-13 17:16:01+01:00    17  2023.531143  \n",
       "2023-07-31 20:39:28+01:00    20  2023.580424  \n",
       "2023-08-08 07:54:37+01:00     7  2023.602327  \n",
       "2023-07-26 14:25:39+01:00    14  2023.566735  \n",
       "2023-08-09 13:58:22+01:00    13  2023.605065  \n",
       "...                         ...          ...  \n",
       "2023-08-02 15:06:21+01:00    15  2023.585900  \n",
       "2023-07-31 12:50:18+01:00    12  2023.580424  \n",
       "2023-08-10 17:23:55+01:00    17  2023.607803  \n",
       "2023-08-13 20:42:30+01:00    20  2023.616016  \n",
       "2023-08-07 12:23:48+01:00    12  2023.599589  \n",
       "\n",
       "[74 rows x 8 columns]"
      ]
     },
     "execution_count": 66,
     "metadata": {},
     "output_type": "execute_result"
    }
   ],
   "source": [
    "dfs.loc[\"2023\"]"
   ]
  },
  {
   "cell_type": "markdown",
   "id": "e6020791",
   "metadata": {},
   "source": [
    "# data analysis \n",
    "# how many email did i send during a time frame\n",
    "# at wat time of the day do i receive data\n",
    "# what is the average of email perday \n",
    "# what is the average of email perhour\n",
    "# whom do i communicate with most frequently\n",
    "# what are the most  active emailing days\n",
    "# what am i mostly email about"
   ]
  },
  {
   "cell_type": "markdown",
   "id": "379fd933",
   "metadata": {},
   "source": [
    "# 1 numbers of email"
   ]
  },
  {
   "cell_type": "code",
   "execution_count": 49,
   "id": "f6e3e3c4",
   "metadata": {},
   "outputs": [
    {
     "name": "stdout",
     "output_type": "stream",
     "text": [
      "Mon, 26 Jun 2023 01:21 PM\n",
      "Mon, 14 Aug 2023 01:54 PM\n",
      "inbox    73\n",
      "sent      1\n",
      "Name: label, dtype: int64\n"
     ]
    }
   ],
   "source": [
    "print(dfs.index.min().strftime('%a, %d %b %Y %I:%M %p'))\n",
    "print(dfs.index.max().strftime('%a, %d %b %Y %I:%M %p'))\n",
    "print(dfs['label'].value_counts())"
   ]
  },
  {
   "cell_type": "code",
   "execution_count": 50,
   "id": "dc81af9b",
   "metadata": {},
   "outputs": [],
   "source": [
    "sent = dfs[dfs['label']=='sent']\n",
    "received = dfs[dfs['label']=='inbox']\n"
   ]
  },
  {
   "cell_type": "markdown",
   "id": "4451e6de",
   "metadata": {},
   "source": [
    "# time of day"
   ]
  },
  {
   "cell_type": "code",
   "execution_count": 51,
   "id": "15a19811",
   "metadata": {},
   "outputs": [],
   "source": [
    "import matplotlib.pyplot as plt\n",
    "from matplotlib.ticker import MaxNLocator\n",
    "from scipy import ndimage\n",
    "import matplotlib.gridspec as gridspec\n",
    "import matplotlib.patches as mpatches"
   ]
  },
  {
   "cell_type": "code",
   "execution_count": 52,
   "id": "ebcab1e7",
   "metadata": {},
   "outputs": [],
   "source": [
    "def plot_todo_vs_year(df, ax, color='C0', s=20, title=''):\n",
    "    ind = np.zeros(len(df), dtype='bool')\n",
    "    est = pytz.timezone('Africa/Lagos')\n",
    "    df[~ind].plot.scatter('year', 'timeofday', s=s, alpha=0.6, ax=ax, color=color)\n",
    "    ax.set_ylim(0, 24)\n",
    "    ax.yaxis.set_major_locator(MaxNLocator(8))\n",
    "    ax.set_yticklabels([datetime.datetime.strptime(str(int(np.mod(ts, 24))), \"%H\").strftime(\"%I %p\") for ts in ax.get_yticks()]);\n",
    "    ax.set_xlim(2020, 2025)\n",
    "    ax.set_xlabel('')\n",
    "    ax.set_ylabel('')\n",
    "    ax.set_title(title)\n",
    "    ax.grid(ls=':', color='k')\n",
    "    return ax\n"
   ]
  },
  {
   "cell_type": "code",
   "execution_count": 53,
   "id": "de339dbf",
   "metadata": {},
   "outputs": [
    {
     "name": "stderr",
     "output_type": "stream",
     "text": [
      "C:\\Users\\MELISA\\AppData\\Local\\Temp\\ipykernel_5340\\1962557207.py:7: UserWarning: FixedFormatter should only be used together with FixedLocator\n",
      "  ax.set_yticklabels([datetime.datetime.strptime(str(int(np.mod(ts, 24))), \"%H\").strftime(\"%I %p\") for ts in ax.get_yticks()]);\n"
     ]
    },
    {
     "data": {
      "text/plain": [
       "<Axes: title={'center': 'Received'}>"
      ]
     },
     "execution_count": 53,
     "metadata": {},
     "output_type": "execute_result"
    },
    {
     "data": {
      "image/png": "[encoded data removed]",
      "text/plain": [
       "<Figure size 1500x400 with 2 Axes>"
      ]
     },
     "metadata": {},
     "output_type": "display_data"
    }
   ],
   "source": [
    "fig, ax = plt.subplots(nrows=1, ncols=2, figsize=(15, 4))\n",
    "plot_todo_vs_year(sent, ax[0], title='Sent')\n",
    "plot_todo_vs_year(received, ax[1], title='Received')"
   ]
  },
  {
   "cell_type": "code",
   "execution_count": 54,
   "id": "f7bc3174",
   "metadata": {},
   "outputs": [
    {
     "data": {
      "text/plain": [
       "inbox    73\n",
       "sent      1\n",
       "Name: label, dtype: int64"
      ]
     },
     "execution_count": 54,
     "metadata": {},
     "output_type": "execute_result"
    }
   ],
   "source": [
    "dfs['label'].value_counts()"
   ]
  },
  {
   "cell_type": "code",
   "execution_count": 55,
   "id": "83630b84",
   "metadata": {},
   "outputs": [
    {
     "data": {
      "text/plain": [
       "array(['Dorcas, plan fun get-togethers with Google ',\n",
       "       '=?UTF-8?q?Trending_AI_Content_=F0=9F=93=88?=',\n",
       "       'African Braids for Hoseadorcas', 'Critical security alert',\n",
       "       'On a mobile device? We got you covered',\n",
       "       '=?utf-8?Q?=f0=9f=93=84_New_messages_from_=32_conversations_in_CoLab?=',\n",
       "       'Learn more about Python Lists',\n",
       "       '=?utf-8?Q?On-Call=20Code=20Examples=20-=20So=20What=20is=20Grepper=20Anyway=3F?=',\n",
       "       '=?utf-8?Q?Slack_confirmation_code=3a_GO=37=2dKAF?=',\n",
       "       'CoLab on Slack: New Account Details',\n",
       "       'Please verify your email address',\n",
       "       'Hoseadorcas, these ideas are so you', 'Last Chance: 50% Off',\n",
       "       '=?UTF-8?Q?=E2=9C=85_Dorcas=2C_finish_setting_up_your_Gionee_F103B_devi?=\\r\\n\\t=?UTF-8?Q?ce_with_Google?=',\n",
       "       'Please confirm your email',\n",
       "       '=?utf-8?Q?=5bSlack=5d_Moze=2e_sent_you_a_message?=',\n",
       "       '=?utf-8?Q?=5bSlack=5d_New_messages_from_Pablo_and_Slackbot_in_CoLab?=',\n",
       "       \"Get certified and prove you're job-ready!\",\n",
       "       '=?UTF-8?q?Get_certified=E2=80=94take_your_career_to_the_next_level!?=',\n",
       "       '=?UTF-8?q?Reminder:_You=E2=80=99re_invited_to_join_the_Afriblocks_23/24_g?=\\r\\n =?UTF-8?q?roup_on_DataCamp?=',\n",
       "       'Password Reset', 'You earned 1035 XP this week + new course!',\n",
       "       'You earned 270 XP this week + new course!',\n",
       "       '=?UTF-8?Q?You=E2=80=99re_officially_a_Kaggler=2E_Now_what=3F?=',\n",
       "       'The Book',\n",
       "       '=?utf-8?Q?=f0=9f=93=84_New_messages_from_=31_conversations_in_CoLab?=',\n",
       "       'has invited you to join Afriblocks 23/24 on DataCamp',\n",
       "       'Welcome to CoLab!',\n",
       "       '=?utf-8?Q?=5bSlack=5d_New_messages_from_Pablo_and_Gideon_in_CoLab?=',\n",
       "       '=?utf-8?Q?=5bSlack=5d_New_messages_from_Gwachat_and_Pablo_in_CoLab?=',\n",
       "       '=?utf-8?Q?Slack_confirmation_code=3a_ZVU=2dUNW?=',\n",
       "       'Dorcas, apply your skills with Projects',\n",
       "       '=?UTF-8?Q?Spreadsheet_shared_with_you=3A_=E2=80=98Colab_Group_3=E2=80=99?=',\n",
       "       '=?utf-8?Q?Moze=2e_and_=31_other_sent_you_messages?=',\n",
       "       'Dorcas, here are three ways to improve your account security',\n",
       "       'Dorcas, finish setting up your new Google Account',\n",
       "       '=?utf-8?Q?Slack_confirmation_code=3a_GO=37=2dLXM?=',\n",
       "       'Security alert',\n",
       "       '=?utf-8?Q?=5bSlack=5d_New_messages_from_colabkd=40gmail=2ecom_and_B=2eK_in_CoLab?=',\n",
       "       'Makeup Techniques For Beginners, How To Put On Makeup For Beginners and more searches like How To Do Makeup For Beginners',\n",
       "       nan, 'Goddess Braids for Hoseadorcas',\n",
       "       'Challenge: Complete 1 chapter today',\n",
       "       'Re: CoLab Internet Voucher', 'CoLab Internet Voucher',\n",
       "       'Sanusi Ismaila has invited you to work with them in Slack',\n",
       "       '=?utf-8?B?8J+RiyBQbGVhc2UgY29uZmlybSB5b3VyIGVtYWls?=',\n",
       "       'Want to close your knowledge gaps faster?',\n",
       "       \"You're all set to get the latest from Google\",\n",
       "       '=?utf-8?Q?=5bSlack=5d_New_messages_from_Goodness_Ukaigwe_and_Pablo_in_CoLab?=',\n",
       "       'Fwd: Data Science', 'Pablo sent you messages',\n",
       "       '=?UTF-8?b?UmVhZHk/IExldCdzIGdvISDwn5Kq?=',\n",
       "       '=?UTF-8?q?It=E2=80=99s_really_that_easy=3F_Yes.?=',\n",
       "       'These ideas are so you',\n",
       "       '=?utf-8?Q?Unlocking=20All=20Advanced=20Features:=20Grepper=20is=20Now=20Fully=20Free!?=',\n",
       "       'Welcome to a wonderful world of learning', 'Confirm your account',\n",
       "       'Welcome to the Data Scientist  with Python track',\n",
       "       'Hairstyles for Hoseadorcas',\n",
       "       '\"Natural Hair Twists\" and more ideas',\n",
       "       '=?UTF-8?q?DataCamp_features_you_don=E2=80=99t_want_to_miss!?=',\n",
       "       '50% Off: Ends soon!', \"Dorcas, don't get left behind\",\n",
       "       '=?utf-8?Q?=5bSlack=5d_New_messages_from_Gideon_and_Pablo_in_CoLab?=',\n",
       "       '=?utf-8?Q?=5bSlack=5d_Pablo_mentioned_you_in_=23data=2dscience=2dschool=2d=31=30?=',\n",
       "       'book on data visualization.'], dtype=object)"
      ]
     },
     "execution_count": 55,
     "metadata": {},
     "output_type": "execute_result"
    }
   ],
   "source": [
    "dfs[\"subject\"].unique()"
   ]
  },
  {
   "cell_type": "markdown",
   "id": "7eee5a28",
   "metadata": {},
   "source": [
    "# number of email perday"
   ]
  },
  {
   "cell_type": "code",
   "execution_count": 56,
   "id": "191636c5",
   "metadata": {},
   "outputs": [
    {
     "data": {
      "text/plain": [
       "<Axes: >"
      ]
     },
     "execution_count": 56,
     "metadata": {},
     "output_type": "execute_result"
    },
    {
     "data": {
      "image/png": "[encoded data removed]",
      "text/plain": [
       "<Figure size 640x480 with 1 Axes>"
      ]
     },
     "metadata": {},
     "output_type": "display_data"
    }
   ],
   "source": [
    "counts = dfs.dayofweek.value_counts(sort=False)\n",
    "counts.plot(kind='bar')"
   ]
  },
  {
   "cell_type": "code",
   "execution_count": 57,
   "id": "2b82bb09",
   "metadata": {},
   "outputs": [
    {
     "data": {
      "image/png": "[encoded data removed]",
      "text/plain": [
       "<Figure size 800x500 with 1 Axes>"
      ]
     },
     "metadata": {},
     "output_type": "display_data"
    }
   ],
   "source": [
    "sdw = sent.groupby('dayofweek').size() / len(sent)\n",
    "rdw = received.groupby('dayofweek').size() / len(received)\n",
    "df_tmp = pd.DataFrame(data={'Outgoing Email': sdw, 'Incoming Email':rdw})\n",
    "df_tmp.plot(kind='bar', rot=45, figsize=(8,5), alpha=0.5)\n",
    "plt.xlabel('');\n",
    "plt.ylabel('Fraction of weekly emails');\n",
    "plt.grid(ls=':', color='k', alpha=0.5)"
   ]
  },
  {
   "cell_type": "markdown",
   "id": "8ba31d7b",
   "metadata": {},
   "source": [
    "# average email perday and hour"
   ]
  },
  {
   "cell_type": "code",
   "execution_count": 58,
   "id": "421c3147",
   "metadata": {},
   "outputs": [],
   "source": [
    "def plot_number_perday_per_year(df, ax, label=None, dt=0.3,\n",
    "    **plot_kwargs):\n",
    "    year = df[df['year'].isnull()]['year'].values\n",
    "    T = year.max() - year.min()\n",
    "    bins = int(T / dt)\n",
    "    weights = 1 / (np.ones_like(year) * dt * 365.25)\n",
    "    ax.hist(year, bins=bins, weights=weights, label=label, **plot_kwargs);\n",
    "    ax.grid(ls=':', color='k')\n"
   ]
  },
  {
   "cell_type": "markdown",
   "id": "0ebf50c0",
   "metadata": {},
   "source": [
    "# average email perhour"
   ]
  },
  {
   "cell_type": "code",
   "execution_count": 59,
   "id": "93b9d21f",
   "metadata": {},
   "outputs": [],
   "source": [
    "def plot_number_perdhour_per_year(df, ax, label=None, dt=1, smooth=False, weight_fun=None, **plot_kwargs):\n",
    "    tod = df[df['timeofday'].isnull()]['timeofday'].values\n",
    "    year = df[df['year'].isnull()]['year'].values\n",
    "    Ty = year.max() - year.min()\n",
    "    T = tod.max() - tod.min()\n",
    "    bins = int(T / dt)\n",
    "    if weight_fun is None:\n",
    "        weights = 1 / (np.ones_like(tod) * Ty * 365.25 / dt)\n",
    "    else:\n",
    "        weights = weight_fun(df)\n",
    "    if smooth:\n",
    "        hst, xedges = np.histogram(tod, bins=bins, weights=weights);\n",
    "        x = np.delete(xedges, -1) + 0.5*(xedges[1] - xedges[0])\n",
    "        hst = ndimage.gaussian_filter(hst, sigma=0.75)\n",
    "        f = interp1d(x, hst, kind='cubic')\n",
    "        x = np.linspace(x.min(), x.max(), 10000)\n",
    "        hst = f(x)\n",
    "        ax.plot(x, hst, label=label, **plot_kwargs)\n",
    "    else:\n",
    "        ax.hist(tod, bins=bins, weights=weights, label=label, **plot_kwargs);\n",
    "        ax.grid(ls=':', color='k')\n",
    "        orientation = plot_kwargs.get('orientation')\n",
    "    if orientation is None or orientation == 'vertical':\n",
    "        ax.set_xlim(0, 24)\n",
    "        ax.xaxis.set_major_locator(MaxNLocator(8))\n",
    "        ax.set_xticklabels([datetime.datetime.strptime(str(int(np.mod(ts,\n",
    "                                                                      24))), \"%H\").strftime(\"%I %p\")\n",
    "                             for ts in ax.get_xticks()]);\n",
    "    elif orientation == 'horizontal':\n",
    "        ax.set_ylim(0, 24)\n",
    "        ax.yaxis.set_major_locator(MaxNLocator(8))\n",
    "        ax.set_yticklabels([datetime.datetime.strptime(str(int(np.mod(ts, 24))), \"%H\").strftime(\"%I %p\")\n",
    "                             for ts in ax.get_yticks()]);"
   ]
  },
  {
   "cell_type": "markdown",
   "id": "0a46dd21",
   "metadata": {},
   "source": [
    "# class that plot the tme,year within time frame"
   ]
  },
  {
   "cell_type": "code",
   "execution_count": 63,
   "id": "5e3977ef",
   "metadata": {},
   "outputs": [
    {
     "data": {
      "image/png": "[encoded data removed]",
      "text/plain": [
       "<Figure size 2500x1500 with 1 Axes>"
      ]
     },
     "metadata": {},
     "output_type": "display_data"
    }
   ],
   "source": [
    "from wordcloud import WordCloud\n",
    "df_no_arxiv = dfs[dfs['from'] != 'no-reply@arXiv.org']\n",
    "text = ' '.join(map(str, sent['subject'].values))\n",
    "stopwords = ['Re', 'Fwd', '3A_']\n",
    "wrd = WordCloud(width=700, height=480, margin=0, collocations=False)\n",
    "for sw in stopwords:\n",
    "    wrd.stopwords.add(sw)\n",
    "wordcloud = wrd.generate(text)\n",
    "plt.figure(figsize=(25,15))\n",
    "plt.imshow(wordcloud, interpolation='bilinear')\n",
    "plt.axis(\"off\")\n",
    "plt.margins(x=0, y=0)"
   ]
  },
  {
   "cell_type": "code",
   "execution_count": null,
   "id": "14b0bdd9",
   "metadata": {},
   "outputs": [],
   "source": []
  },
  {
   "cell_type": "code",
   "execution_count": null,
   "id": "22ee28fc",
   "metadata": {},
   "outputs": [],
   "source": []
  }
 ],
 "metadata": {
  "kernelspec": {
   "display_name": "Python 3 (ipykernel)",
   "language": "python",
   "name": "python3"
  },
  "language_info": {
   "codemirror_mode": {
    "name": "ipython",
    "version": 3
   },
   "file_extension": ".py",
   "mimetype": "text/x-python",
   "name": "python",
   "nbconvert_exporter": "python",
   "pygments_lexer": "ipython3",
   "version": "3.10.9"
  }
 },
 "nbformat": 4,
 "nbformat_minor": 5
}
